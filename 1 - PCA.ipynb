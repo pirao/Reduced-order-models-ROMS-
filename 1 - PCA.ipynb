{
 "cells": [
  {
   "cell_type": "markdown",
   "metadata": {
    "ExecuteTime": {
     "end_time": "2021-05-15T12:36:59.060271Z",
     "start_time": "2021-05-15T12:36:59.056281Z"
    },
    "heading_collapsed": true
   },
   "source": [
    "# Packages"
   ]
  },
  {
   "cell_type": "code",
   "execution_count": 1,
   "metadata": {
    "ExecuteTime": {
     "end_time": "2021-07-23T13:26:40.981925Z",
     "start_time": "2021-07-23T13:26:35.366295Z"
    },
    "hidden": true,
    "id": "tlEBflwJYvKW"
   },
   "outputs": [],
   "source": [
    "import numpy as np\n",
    "import matplotlib.pyplot as plt\n",
    "from sklearn.preprocessing import StandardScaler\n",
    "import pandas as pd\n",
    "import pickle\n",
    "import tensorflow as tf\n",
    "import seaborn as sns\n",
    "import scipy as sp\n",
    "\n",
    "from sklearn.metrics import mean_squared_error, r2_score\n",
    "from sklearn.model_selection import KFold, TimeSeriesSplit, train_test_split\n",
    "from sklearn.ensemble import RandomForestRegressor\n",
    "\n",
    "from tqdm import tqdm"
   ]
  },
  {
   "cell_type": "code",
   "execution_count": 2,
   "metadata": {
    "ExecuteTime": {
     "end_time": "2021-07-23T13:26:41.331372Z",
     "start_time": "2021-07-23T13:26:40.983919Z"
    },
    "hidden": true
   },
   "outputs": [],
   "source": [
    "from utils.model_summary_functions import feature_importance, metrics, summary_plot,multivariate_importance\n",
    "from utils.plotting import plot_autocorrelation"
   ]
  },
  {
   "cell_type": "code",
   "execution_count": 3,
   "metadata": {
    "ExecuteTime": {
     "end_time": "2021-07-23T13:26:41.347342Z",
     "start_time": "2021-07-23T13:26:41.333378Z"
    },
    "hidden": true,
    "id": "uJhSTzzaRM2D"
   },
   "outputs": [],
   "source": [
    "import warnings # Serve para ignorar mensagens de alerta que aparecem \n",
    "warnings.simplefilter(action='ignore', category=FutureWarning)"
   ]
  },
  {
   "cell_type": "code",
   "execution_count": 4,
   "metadata": {
    "ExecuteTime": {
     "end_time": "2021-07-23T13:26:41.362473Z",
     "start_time": "2021-07-23T13:26:41.348335Z"
    },
    "hidden": true
   },
   "outputs": [],
   "source": [
    "plt.style.use('default')\n",
    "\n",
    "plt.rcParams.update({\n",
    "    'font.size': 16,\n",
    "    'axes.linewidth': 2,\n",
    "    'axes.titlesize': 20,\n",
    "    'axes.edgecolor': 'black',\n",
    "    'axes.labelsize': 20,\n",
    "    'axes.grid': True,\n",
    "    'lines.linewidth': 1.5,\n",
    "    'lines.markersize': 6,\n",
    "    'figure.figsize': (15, 6),\n",
    "    'xtick.labelsize': 14,\n",
    "    'ytick.labelsize': 14,\n",
    "    'font.family': 'Arial',\n",
    "    'legend.fontsize': 13,\n",
    "    'legend.framealpha': 1,\n",
    "    'legend.edgecolor': 'black',\n",
    "    'legend.shadow': False,\n",
    "    'legend.fancybox': True,\n",
    "    'legend.frameon': True,\n",
    "    'text.color':'black',\n",
    "    'axes.labelcolor': 'black',\n",
    "})\n"
   ]
  },
  {
   "cell_type": "code",
   "execution_count": 5,
   "metadata": {
    "ExecuteTime": {
     "end_time": "2021-07-23T13:26:41.520326Z",
     "start_time": "2021-07-23T13:26:41.363442Z"
    },
    "hidden": true
   },
   "outputs": [],
   "source": [
    "physical_devices = tf.config.list_physical_devices('GPU') \n",
    "tf.config.experimental.set_memory_growth(physical_devices[0], True)"
   ]
  },
  {
   "cell_type": "markdown",
   "metadata": {
    "id": "WTnJbwBeWVpG"
   },
   "source": [
    "# Importing Kuramoto dataset"
   ]
  },
  {
   "cell_type": "markdown",
   "metadata": {
    "id": "HJ-CqIttOc2Z"
   },
   "source": [
    "We first import the solution obtained from the Kuramoto differential equation subject to periodic boundary conditions. The spatial domain has length L=200 and discretized with 512 nodes. The time step was 0.25 seconds with a time domain from t=0 to t=2000 seconds. \n",
    "\n",
    "$$ u_t + u_x u + u_{xx} + u_{xxxx}=0 \\tag{1}$$ \n",
    "\n",
    "\n",
    "$$ u(t=0,x) = cos \\frac{\\pi x}{20}*(1+sin\\frac{\\pi x}{20})  \\tag{2}$$\n",
    "\n",
    "\n",
    "The first 500 seconds were truncated in order to avoid transients and model only the chaotic part of the solution"
   ]
  },
  {
   "cell_type": "code",
   "execution_count": 6,
   "metadata": {
    "ExecuteTime": {
     "end_time": "2021-07-23T13:26:41.552327Z",
     "start_time": "2021-07-23T13:26:41.522327Z"
    },
    "id": "IDf_mV1DWYS1"
   },
   "outputs": [
    {
     "name": "stdout",
     "output_type": "stream",
     "text": [
      "(6000, 512)\n",
      "(6000, 512)\n",
      "(6000, 512)\n"
     ]
    }
   ],
   "source": [
    "#X = np.load('Kuramoto_dataset\\Kuramoto_X.npy')\n",
    "#T = np.load('Kuramoto_dataset\\Kuramoto_T.npy')\n",
    "#U = np.load('Kuramoto_dataset\\Kuramoto_U.npy')\n",
    "\n",
    "X = np.linspace(0,200,512) # Discrete space domain vector\n",
    "T = np.load('Kuramoto_dataset\\KSTime.npy') # Discrete time domain vector\n",
    "U = np.load('Kuramoto_dataset\\KSSolution.npy') # Solution\n",
    "X, T = np.meshgrid(X, T)\n",
    "\n",
    "# Converting time to Lyapunov time\n",
    "\n",
    "MLE = 0.094 # Maximal Lyapunov Time\n",
    "T_lyapunov = T*MLE\n",
    "\n",
    "print(X.shape)\n",
    "print(T.shape)\n",
    "print(U.shape)"
   ]
  },
  {
   "cell_type": "code",
   "execution_count": 7,
   "metadata": {
    "ExecuteTime": {
     "end_time": "2021-07-23T13:26:41.567326Z",
     "start_time": "2021-07-23T13:26:41.553326Z"
    }
   },
   "outputs": [],
   "source": [
    "#np.savetxt('data.csv', U, delimiter=',')"
   ]
  },
  {
   "cell_type": "code",
   "execution_count": 8,
   "metadata": {
    "ExecuteTime": {
     "end_time": "2021-07-23T13:26:41.583327Z",
     "start_time": "2021-07-23T13:26:41.569327Z"
    },
    "colab": {
     "base_uri": "https://localhost:8080/",
     "height": 356
    },
    "id": "KippMk2_Wop6",
    "outputId": "51747e52-aa02-4e67-dc4e-aa52d00abe0e"
   },
   "outputs": [],
   "source": [
    "# fig, ax = plt.subplots(figsize=(14, 7))\n",
    "\n",
    "# surf = ax.pcolor(X, T_lyapunov, U, cmap=plt.get_cmap(\"seismic\"),shading='auto')\n",
    "\n",
    "# plt.colorbar(surf)\n",
    "# plt.xlabel('X')\n",
    "# plt.ylabel('T $\\Lambda_{max}$')\n",
    "# plt.tight_layout()"
   ]
  },
  {
   "cell_type": "markdown",
   "metadata": {
    "id": "m3suv7I_-dMR"
   },
   "source": [
    "## Creating the training and test set for evaluating PCA\n",
    "\n",
    "The dataset has columns rows and 6000 rows. The first 90% will be used for training and the remaining 10% for testing. The time series sequence must be respected, so we cannot shuffle the data."
   ]
  },
  {
   "cell_type": "code",
   "execution_count": 9,
   "metadata": {
    "ExecuteTime": {
     "end_time": "2021-07-23T13:26:41.598331Z",
     "start_time": "2021-07-23T13:26:41.585348Z"
    },
    "id": "FG-ueQpT-YG_"
   },
   "outputs": [],
   "source": [
    "X_train = X[:5400]\n",
    "T_train = T[:5400]\n",
    "U_train = U[:5400]\n",
    "X_test = X[5400:]\n",
    "T_test = T[5400:]\n",
    "U_test = U[5400:]\n",
    "\n",
    "# X_train = X[:28000]\n",
    "# T_train = T[:28000]\n",
    "# U_train = U[:28000]\n",
    "\n",
    "# X_test = X[28000:]\n",
    "# T_test = T[28000:]\n",
    "# U_test = U[28000:]"
   ]
  },
  {
   "cell_type": "code",
   "execution_count": 10,
   "metadata": {
    "ExecuteTime": {
     "end_time": "2021-07-23T13:26:41.614327Z",
     "start_time": "2021-07-23T13:26:41.599331Z"
    },
    "colab": {
     "base_uri": "https://localhost:8080/"
    },
    "id": "fbeq8sUiAa1O",
    "outputId": "fce1e7e8-bbfd-472b-ddae-3874e664b789"
   },
   "outputs": [
    {
     "name": "stdout",
     "output_type": "stream",
     "text": [
      "(5400, 512)\n",
      "(600, 512)\n",
      "\n",
      "(5400, 512)\n",
      "(600, 512)\n",
      "\n",
      "(5400, 512)\n",
      "(600, 512)\n"
     ]
    }
   ],
   "source": [
    "print(U_train.shape)\n",
    "print(U_test.shape)\n",
    "print('')\n",
    "print(X_train.shape)\n",
    "print(X_test.shape)\n",
    "print('')\n",
    "print(T_train.shape)\n",
    "print(T_test.shape)"
   ]
  },
  {
   "cell_type": "code",
   "execution_count": 11,
   "metadata": {
    "ExecuteTime": {
     "end_time": "2021-07-23T13:26:41.678327Z",
     "start_time": "2021-07-23T13:26:41.615327Z"
    },
    "id": "QejB0elU3GhH"
   },
   "outputs": [],
   "source": [
    "# Normalizing the dataset to be with 0 mean and unit variance\n",
    "scaler = StandardScaler()\n",
    "\n",
    "U_scaled_train = scaler.fit_transform(U_train)\n",
    "U_scaled_test = scaler.transform(U_test)"
   ]
  },
  {
   "cell_type": "markdown",
   "metadata": {
    "id": "Cd3WnSAuYMAM"
   },
   "source": [
    "# Applying dimensionality reduction for the Kuramoto dataset - PCA"
   ]
  },
  {
   "cell_type": "code",
   "execution_count": 12,
   "metadata": {
    "ExecuteTime": {
     "end_time": "2021-07-23T13:26:44.055616Z",
     "start_time": "2021-07-23T13:26:44.040718Z"
    }
   },
   "outputs": [],
   "source": [
    "from utils import dim_reduction"
   ]
  },
  {
   "cell_type": "markdown",
   "metadata": {},
   "source": [
    "## Threshold based on energy criteria"
   ]
  },
  {
   "cell_type": "code",
   "execution_count": 13,
   "metadata": {
    "ExecuteTime": {
     "end_time": "2021-07-23T13:26:44.756914Z",
     "start_time": "2021-07-23T13:26:44.057623Z"
    }
   },
   "outputs": [
    {
     "name": "stdout",
     "output_type": "stream",
     "text": [
      "PCA model: PCA(n_components=92)\n"
     ]
    },
    {
     "data": {
      "image/png": "[encoded data removed]",
      "text/plain": [
       "<Figure size 1500x600 with 1 Axes>"
      ]
     },
     "metadata": {},
     "output_type": "display_data"
    }
   ],
   "source": [
    "threshold = 0.99 # Maintain 99% of variance in the dataset\n",
    "pca = dim_reduction.pca(U=U_scaled_train,threshold=threshold)\n",
    "#path = './pca_models/pca_Kuramoto'\n",
    "#pca.save_model(path=path)\n",
    "\n",
    "print('PCA model:', pca.model_red)\n",
    "pca.plot_pca()"
   ]
  },
  {
   "cell_type": "code",
   "execution_count": 14,
   "metadata": {
    "ExecuteTime": {
     "end_time": "2021-07-23T13:26:45.024623Z",
     "start_time": "2021-07-23T13:26:44.757625Z"
    }
   },
   "outputs": [
    {
     "name": "stdout",
     "output_type": "stream",
     "text": [
      "(5400, 512)\n",
      "(5400, 92)\n"
     ]
    }
   ],
   "source": [
    "# Reduce dimensionality of the data\n",
    "U_train_pca = pca.model_red.fit_transform(U_scaled_train)\n",
    "U_test_pca = pca.model_red.transform(U_scaled_test)\n",
    "\n",
    "print(U_scaled_train.shape)\n",
    "print(U_train_pca.shape)"
   ]
  },
  {
   "cell_type": "code",
   "execution_count": 15,
   "metadata": {
    "ExecuteTime": {
     "end_time": "2021-07-23T13:26:45.071622Z",
     "start_time": "2021-07-23T13:26:45.025624Z"
    }
   },
   "outputs": [
    {
     "name": "stdout",
     "output_type": "stream",
     "text": [
      "(5400, 512)\n",
      "(5400, 512)\n"
     ]
    }
   ],
   "source": [
    "U_train_reduced = pca.model_red.inverse_transform(U_train_pca)\n",
    "U_test_reduced = pca.model_red.inverse_transform(U_test_pca)\n",
    "\n",
    "print(U_scaled_train.shape)\n",
    "print(U_train_reduced.shape) # Return to the original domain after cutting eigenvectors\n",
    "\n",
    "# Apply inverse standard scaler transform to obtain dataset in same scale as the original data\n",
    "U_train_reduced_inverse = scaler.inverse_transform(U_train_reduced)  \n",
    "U_test_reduced_inverse = scaler.inverse_transform(U_test_reduced)"
   ]
  },
  {
   "cell_type": "code",
   "execution_count": 16,
   "metadata": {
    "ExecuteTime": {
     "end_time": "2021-07-23T13:26:45.086624Z",
     "start_time": "2021-07-23T13:26:45.072624Z"
    }
   },
   "outputs": [],
   "source": [
    "# fig, ax, diff = pca.plot_compare(X=X_train,\n",
    "#                  T=T_train,\n",
    "#                  U = U_train,\n",
    "#                  U_reduced = U_train_reduced_inverse)\n",
    "\n",
    "# print('Mean absolute error (MAE) for training set: {}'.format(diff.mean()))"
   ]
  },
  {
   "cell_type": "code",
   "execution_count": 17,
   "metadata": {
    "ExecuteTime": {
     "end_time": "2021-07-23T13:26:45.102623Z",
     "start_time": "2021-07-23T13:26:45.087634Z"
    }
   },
   "outputs": [],
   "source": [
    "# fig, ax, diff = pca.plot_compare(X=X_test,\n",
    "#                  T=T_test,\n",
    "#                  U = U_test,\n",
    "#                  U_reduced = U_test_reduced_inverse)\n",
    "\n",
    "# print('Mean absolute error (MAE) for test set: {}'.format(diff.mean()))"
   ]
  },
  {
   "cell_type": "markdown",
   "metadata": {
    "ExecuteTime": {
     "end_time": "2021-05-15T16:54:17.745958Z",
     "start_time": "2021-05-15T16:54:17.733982Z"
    }
   },
   "source": [
    "## Final ROM "
   ]
  },
  {
   "cell_type": "code",
   "execution_count": 18,
   "metadata": {
    "ExecuteTime": {
     "end_time": "2021-07-23T13:26:46.117623Z",
     "start_time": "2021-07-23T13:26:45.262624Z"
    }
   },
   "outputs": [
    {
     "data": {
      "text/plain": [
       "(6000, 93)"
      ]
     },
     "execution_count": 18,
     "metadata": {},
     "output_type": "execute_result"
    }
   ],
   "source": [
    "scaler2 = StandardScaler()\n",
    "U_scaled2 = scaler2.fit_transform(U)\n",
    "\n",
    "# Initializing PCA class\n",
    "pca = dim_reduction.pca(U=U_scaled2,threshold=threshold)\n",
    "U_pca = pca.model_red.fit_transform(U_scaled2)\n",
    "U_pca.shape"
   ]
  },
  {
   "cell_type": "code",
   "execution_count": 19,
   "metadata": {
    "ExecuteTime": {
     "end_time": "2021-07-23T13:26:46.165624Z",
     "start_time": "2021-07-23T13:26:46.119626Z"
    }
   },
   "outputs": [],
   "source": [
    "path = './pca_models/pca_Kuramoto'\n",
    "pickle.dump(pca, open(path, 'wb'))\n",
    "path = './pca_models/standardscaler'\n",
    "pickle.dump(scaler2, open(path, 'wb'))"
   ]
  },
  {
   "cell_type": "code",
   "execution_count": 20,
   "metadata": {
    "ExecuteTime": {
     "end_time": "2021-07-23T13:26:46.212624Z",
     "start_time": "2021-07-23T13:26:46.167624Z"
    }
   },
   "outputs": [
    {
     "data": {
      "text/html": [
       "<div>\n",
       "<style scoped>\n",
       "    .dataframe tbody tr th:only-of-type {\n",
       "        vertical-align: middle;\n",
       "    }\n",
       "\n",
       "    .dataframe tbody tr th {\n",
       "        vertical-align: top;\n",
       "    }\n",
       "\n",
       "    .dataframe thead th {\n",
       "        text-align: right;\n",
       "    }\n",
       "</style>\n",
       "<table border=\"1\" class=\"dataframe\">\n",
       "  <thead>\n",
       "    <tr style=\"text-align: right;\">\n",
       "      <th></th>\n",
       "      <th>0</th>\n",
       "      <th>1</th>\n",
       "      <th>2</th>\n",
       "      <th>3</th>\n",
       "      <th>4</th>\n",
       "      <th>5</th>\n",
       "      <th>6</th>\n",
       "      <th>7</th>\n",
       "      <th>8</th>\n",
       "      <th>9</th>\n",
       "      <th>...</th>\n",
       "      <th>83</th>\n",
       "      <th>84</th>\n",
       "      <th>85</th>\n",
       "      <th>86</th>\n",
       "      <th>87</th>\n",
       "      <th>88</th>\n",
       "      <th>89</th>\n",
       "      <th>90</th>\n",
       "      <th>91</th>\n",
       "      <th>92</th>\n",
       "    </tr>\n",
       "  </thead>\n",
       "  <tbody>\n",
       "    <tr>\n",
       "      <th>0</th>\n",
       "      <td>5.472871</td>\n",
       "      <td>1.217982</td>\n",
       "      <td>6.230086</td>\n",
       "      <td>-0.950462</td>\n",
       "      <td>0.863161</td>\n",
       "      <td>-1.352218</td>\n",
       "      <td>4.725135</td>\n",
       "      <td>-4.429206</td>\n",
       "      <td>1.363932</td>\n",
       "      <td>-2.402084</td>\n",
       "      <td>...</td>\n",
       "      <td>0.042324</td>\n",
       "      <td>-0.628976</td>\n",
       "      <td>0.303736</td>\n",
       "      <td>1.050924</td>\n",
       "      <td>-0.319772</td>\n",
       "      <td>0.452098</td>\n",
       "      <td>-0.454401</td>\n",
       "      <td>-0.395371</td>\n",
       "      <td>-0.434333</td>\n",
       "      <td>-0.886681</td>\n",
       "    </tr>\n",
       "    <tr>\n",
       "      <th>1</th>\n",
       "      <td>5.456736</td>\n",
       "      <td>1.030217</td>\n",
       "      <td>6.275587</td>\n",
       "      <td>-0.838791</td>\n",
       "      <td>0.975329</td>\n",
       "      <td>-1.566040</td>\n",
       "      <td>4.830630</td>\n",
       "      <td>-4.338888</td>\n",
       "      <td>1.385022</td>\n",
       "      <td>-2.258257</td>\n",
       "      <td>...</td>\n",
       "      <td>0.149707</td>\n",
       "      <td>-0.568629</td>\n",
       "      <td>0.224101</td>\n",
       "      <td>0.962598</td>\n",
       "      <td>-0.370399</td>\n",
       "      <td>0.411446</td>\n",
       "      <td>-0.487105</td>\n",
       "      <td>-0.412622</td>\n",
       "      <td>-0.438104</td>\n",
       "      <td>-0.947290</td>\n",
       "    </tr>\n",
       "    <tr>\n",
       "      <th>2</th>\n",
       "      <td>5.456897</td>\n",
       "      <td>0.833749</td>\n",
       "      <td>6.308572</td>\n",
       "      <td>-0.730643</td>\n",
       "      <td>1.086719</td>\n",
       "      <td>-1.799117</td>\n",
       "      <td>4.927997</td>\n",
       "      <td>-4.225563</td>\n",
       "      <td>1.400620</td>\n",
       "      <td>-2.127380</td>\n",
       "      <td>...</td>\n",
       "      <td>0.244525</td>\n",
       "      <td>-0.515302</td>\n",
       "      <td>0.145613</td>\n",
       "      <td>0.862979</td>\n",
       "      <td>-0.416856</td>\n",
       "      <td>0.365906</td>\n",
       "      <td>-0.515017</td>\n",
       "      <td>-0.417493</td>\n",
       "      <td>-0.444786</td>\n",
       "      <td>-1.012555</td>\n",
       "    </tr>\n",
       "    <tr>\n",
       "      <th>3</th>\n",
       "      <td>5.472629</td>\n",
       "      <td>0.629589</td>\n",
       "      <td>6.327787</td>\n",
       "      <td>-0.628478</td>\n",
       "      <td>1.196396</td>\n",
       "      <td>-2.050700</td>\n",
       "      <td>5.015677</td>\n",
       "      <td>-4.089995</td>\n",
       "      <td>1.407393</td>\n",
       "      <td>-2.009958</td>\n",
       "      <td>...</td>\n",
       "      <td>0.322812</td>\n",
       "      <td>-0.469722</td>\n",
       "      <td>0.069574</td>\n",
       "      <td>0.750927</td>\n",
       "      <td>-0.458162</td>\n",
       "      <td>0.317323</td>\n",
       "      <td>-0.536380</td>\n",
       "      <td>-0.407113</td>\n",
       "      <td>-0.455174</td>\n",
       "      <td>-1.079685</td>\n",
       "    </tr>\n",
       "    <tr>\n",
       "      <th>4</th>\n",
       "      <td>5.501610</td>\n",
       "      <td>0.419481</td>\n",
       "      <td>6.331751</td>\n",
       "      <td>-0.534753</td>\n",
       "      <td>1.303558</td>\n",
       "      <td>-2.319721</td>\n",
       "      <td>5.092144</td>\n",
       "      <td>-3.933463</td>\n",
       "      <td>1.401821</td>\n",
       "      <td>-1.906113</td>\n",
       "      <td>...</td>\n",
       "      <td>0.380772</td>\n",
       "      <td>-0.431966</td>\n",
       "      <td>-0.002469</td>\n",
       "      <td>0.625161</td>\n",
       "      <td>-0.493436</td>\n",
       "      <td>0.267659</td>\n",
       "      <td>-0.549715</td>\n",
       "      <td>-0.378990</td>\n",
       "      <td>-0.469812</td>\n",
       "      <td>-1.145273</td>\n",
       "    </tr>\n",
       "    <tr>\n",
       "      <th>...</th>\n",
       "      <td>...</td>\n",
       "      <td>...</td>\n",
       "      <td>...</td>\n",
       "      <td>...</td>\n",
       "      <td>...</td>\n",
       "      <td>...</td>\n",
       "      <td>...</td>\n",
       "      <td>...</td>\n",
       "      <td>...</td>\n",
       "      <td>...</td>\n",
       "      <td>...</td>\n",
       "      <td>...</td>\n",
       "      <td>...</td>\n",
       "      <td>...</td>\n",
       "      <td>...</td>\n",
       "      <td>...</td>\n",
       "      <td>...</td>\n",
       "      <td>...</td>\n",
       "      <td>...</td>\n",
       "      <td>...</td>\n",
       "      <td>...</td>\n",
       "    </tr>\n",
       "    <tr>\n",
       "      <th>5995</th>\n",
       "      <td>-4.149586</td>\n",
       "      <td>1.311779</td>\n",
       "      <td>-1.733645</td>\n",
       "      <td>2.995828</td>\n",
       "      <td>-9.173312</td>\n",
       "      <td>2.279188</td>\n",
       "      <td>-0.460554</td>\n",
       "      <td>2.574104</td>\n",
       "      <td>1.066336</td>\n",
       "      <td>-3.507364</td>\n",
       "      <td>...</td>\n",
       "      <td>-0.038440</td>\n",
       "      <td>-0.516034</td>\n",
       "      <td>-0.068059</td>\n",
       "      <td>-1.804518</td>\n",
       "      <td>0.456283</td>\n",
       "      <td>0.363398</td>\n",
       "      <td>0.108329</td>\n",
       "      <td>-0.124854</td>\n",
       "      <td>-0.227933</td>\n",
       "      <td>0.457089</td>\n",
       "    </tr>\n",
       "    <tr>\n",
       "      <th>5996</th>\n",
       "      <td>-3.869611</td>\n",
       "      <td>1.194403</td>\n",
       "      <td>-1.635748</td>\n",
       "      <td>3.000731</td>\n",
       "      <td>-9.144402</td>\n",
       "      <td>2.275107</td>\n",
       "      <td>-0.266543</td>\n",
       "      <td>2.343572</td>\n",
       "      <td>1.135160</td>\n",
       "      <td>-3.420423</td>\n",
       "      <td>...</td>\n",
       "      <td>-0.124407</td>\n",
       "      <td>-0.503931</td>\n",
       "      <td>-0.087439</td>\n",
       "      <td>-1.899951</td>\n",
       "      <td>0.439299</td>\n",
       "      <td>0.353236</td>\n",
       "      <td>0.017841</td>\n",
       "      <td>-0.117174</td>\n",
       "      <td>-0.337113</td>\n",
       "      <td>0.505647</td>\n",
       "    </tr>\n",
       "    <tr>\n",
       "      <th>5997</th>\n",
       "      <td>-3.593313</td>\n",
       "      <td>1.100201</td>\n",
       "      <td>-1.565852</td>\n",
       "      <td>3.003578</td>\n",
       "      <td>-9.102322</td>\n",
       "      <td>2.267642</td>\n",
       "      <td>-0.078799</td>\n",
       "      <td>2.113092</td>\n",
       "      <td>1.207276</td>\n",
       "      <td>-3.346010</td>\n",
       "      <td>...</td>\n",
       "      <td>-0.207155</td>\n",
       "      <td>-0.505051</td>\n",
       "      <td>-0.082344</td>\n",
       "      <td>-1.931616</td>\n",
       "      <td>0.433744</td>\n",
       "      <td>0.329172</td>\n",
       "      <td>-0.068791</td>\n",
       "      <td>-0.108082</td>\n",
       "      <td>-0.390954</td>\n",
       "      <td>0.545995</td>\n",
       "    </tr>\n",
       "    <tr>\n",
       "      <th>5998</th>\n",
       "      <td>-3.312633</td>\n",
       "      <td>1.021631</td>\n",
       "      <td>-1.519267</td>\n",
       "      <td>3.001866</td>\n",
       "      <td>-9.045092</td>\n",
       "      <td>2.256996</td>\n",
       "      <td>0.095221</td>\n",
       "      <td>1.893864</td>\n",
       "      <td>1.292517</td>\n",
       "      <td>-3.293154</td>\n",
       "      <td>...</td>\n",
       "      <td>-0.283526</td>\n",
       "      <td>-0.518721</td>\n",
       "      <td>-0.052140</td>\n",
       "      <td>-1.902229</td>\n",
       "      <td>0.440545</td>\n",
       "      <td>0.296793</td>\n",
       "      <td>-0.149900</td>\n",
       "      <td>-0.107087</td>\n",
       "      <td>-0.395280</td>\n",
       "      <td>0.572288</td>\n",
       "    </tr>\n",
       "    <tr>\n",
       "      <th>5999</th>\n",
       "      <td>-3.022673</td>\n",
       "      <td>0.952693</td>\n",
       "      <td>-1.493302</td>\n",
       "      <td>2.994005</td>\n",
       "      <td>-8.970342</td>\n",
       "      <td>2.243358</td>\n",
       "      <td>0.248464</td>\n",
       "      <td>1.694254</td>\n",
       "      <td>1.399390</td>\n",
       "      <td>-3.266538</td>\n",
       "      <td>...</td>\n",
       "      <td>-0.351543</td>\n",
       "      <td>-0.544281</td>\n",
       "      <td>-0.000141</td>\n",
       "      <td>-1.818379</td>\n",
       "      <td>0.458232</td>\n",
       "      <td>0.260236</td>\n",
       "      <td>-0.222440</td>\n",
       "      <td>-0.119396</td>\n",
       "      <td>-0.357581</td>\n",
       "      <td>0.580647</td>\n",
       "    </tr>\n",
       "  </tbody>\n",
       "</table>\n",
       "<p>6000 rows × 93 columns</p>\n",
       "</div>"
      ],
      "text/plain": [
       "            0         1         2         3         4         5         6   \\\n",
       "0     5.472871  1.217982  6.230086 -0.950462  0.863161 -1.352218  4.725135   \n",
       "1     5.456736  1.030217  6.275587 -0.838791  0.975329 -1.566040  4.830630   \n",
       "2     5.456897  0.833749  6.308572 -0.730643  1.086719 -1.799117  4.927997   \n",
       "3     5.472629  0.629589  6.327787 -0.628478  1.196396 -2.050700  5.015677   \n",
       "4     5.501610  0.419481  6.331751 -0.534753  1.303558 -2.319721  5.092144   \n",
       "...        ...       ...       ...       ...       ...       ...       ...   \n",
       "5995 -4.149586  1.311779 -1.733645  2.995828 -9.173312  2.279188 -0.460554   \n",
       "5996 -3.869611  1.194403 -1.635748  3.000731 -9.144402  2.275107 -0.266543   \n",
       "5997 -3.593313  1.100201 -1.565852  3.003578 -9.102322  2.267642 -0.078799   \n",
       "5998 -3.312633  1.021631 -1.519267  3.001866 -9.045092  2.256996  0.095221   \n",
       "5999 -3.022673  0.952693 -1.493302  2.994005 -8.970342  2.243358  0.248464   \n",
       "\n",
       "            7         8         9   ...        83        84        85  \\\n",
       "0    -4.429206  1.363932 -2.402084  ...  0.042324 -0.628976  0.303736   \n",
       "1    -4.338888  1.385022 -2.258257  ...  0.149707 -0.568629  0.224101   \n",
       "2    -4.225563  1.400620 -2.127380  ...  0.244525 -0.515302  0.145613   \n",
       "3    -4.089995  1.407393 -2.009958  ...  0.322812 -0.469722  0.069574   \n",
       "4    -3.933463  1.401821 -1.906113  ...  0.380772 -0.431966 -0.002469   \n",
       "...        ...       ...       ...  ...       ...       ...       ...   \n",
       "5995  2.574104  1.066336 -3.507364  ... -0.038440 -0.516034 -0.068059   \n",
       "5996  2.343572  1.135160 -3.420423  ... -0.124407 -0.503931 -0.087439   \n",
       "5997  2.113092  1.207276 -3.346010  ... -0.207155 -0.505051 -0.082344   \n",
       "5998  1.893864  1.292517 -3.293154  ... -0.283526 -0.518721 -0.052140   \n",
       "5999  1.694254  1.399390 -3.266538  ... -0.351543 -0.544281 -0.000141   \n",
       "\n",
       "            86        87        88        89        90        91        92  \n",
       "0     1.050924 -0.319772  0.452098 -0.454401 -0.395371 -0.434333 -0.886681  \n",
       "1     0.962598 -0.370399  0.411446 -0.487105 -0.412622 -0.438104 -0.947290  \n",
       "2     0.862979 -0.416856  0.365906 -0.515017 -0.417493 -0.444786 -1.012555  \n",
       "3     0.750927 -0.458162  0.317323 -0.536380 -0.407113 -0.455174 -1.079685  \n",
       "4     0.625161 -0.493436  0.267659 -0.549715 -0.378990 -0.469812 -1.145273  \n",
       "...        ...       ...       ...       ...       ...       ...       ...  \n",
       "5995 -1.804518  0.456283  0.363398  0.108329 -0.124854 -0.227933  0.457089  \n",
       "5996 -1.899951  0.439299  0.353236  0.017841 -0.117174 -0.337113  0.505647  \n",
       "5997 -1.931616  0.433744  0.329172 -0.068791 -0.108082 -0.390954  0.545995  \n",
       "5998 -1.902229  0.440545  0.296793 -0.149900 -0.107087 -0.395280  0.572288  \n",
       "5999 -1.818379  0.458232  0.260236 -0.222440 -0.119396 -0.357581  0.580647  \n",
       "\n",
       "[6000 rows x 93 columns]"
      ]
     },
     "execution_count": 20,
     "metadata": {},
     "output_type": "execute_result"
    }
   ],
   "source": [
    "df = pd.DataFrame(U_pca)\n",
    "df"
   ]
  },
  {
   "cell_type": "code",
   "execution_count": 21,
   "metadata": {},
   "outputs": [],
   "source": [
    "df.to_csv('Processed_datasets/reduced_dataset.csv.zip', index=False, compression=\"zip\")"
   ]
  }
 ],
 "metadata": {
  "accelerator": "GPU",
  "colab": {
   "collapsed_sections": [
    "2c7CTTYEUP6x",
    "-WnlUqq1UEMN"
   ],
   "name": "POD + PINN - Kuramoto.ipynb",
   "provenance": []
  },
  "interpreter": {
   "hash": "18e03f19e2eea32137bb6b7634899948883c996f0eeacfc3548045b6b15590e6"
  },
  "kernelspec": {
   "display_name": "Python 3.8.8 64-bit ('base': conda)",
   "name": "python3"
  },
  "language_info": {
   "codemirror_mode": {
    "name": "ipython",
    "version": 3
   },
   "file_extension": ".py",
   "mimetype": "text/x-python",
   "name": "python",
   "nbconvert_exporter": "python",
   "pygments_lexer": "ipython3",
   "version": "3.8.8"
  },
  "latex_envs": {
   "LaTeX_envs_menu_present": true,
   "autoclose": false,
   "autocomplete": true,
   "bibliofile": "biblio.bib",
   "cite_by": "apalike",
   "current_citInitial": 1,
   "eqLabelWithNumbers": true,
   "eqNumInitial": 1,
   "hotkeys": {
    "equation": "Ctrl-E",
    "itemize": "Ctrl-I"
   },
   "labels_anchors": false,
   "latex_user_defs": false,
   "report_style_numbering": false,
   "user_envs_cfg": false
  },
  "toc": {
   "base_numbering": 1,
   "nav_menu": {},
   "number_sections": true,
   "sideBar": true,
   "skip_h1_title": false,
   "title_cell": "Table of Contents",
   "title_sidebar": "Contents",
   "toc_cell": false,
   "toc_position": {
    "height": "calc(100% - 180px)",
    "left": "10px",
    "top": "150px",
    "width": "349.091px"
   },
   "toc_section_display": true,
   "toc_window_display": true
  },
  "varInspector": {
   "cols": {
    "lenName": 16,
    "lenType": 16,
    "lenVar": 40
   },
   "kernels_config": {
    "python": {
     "delete_cmd_postfix": "",
     "delete_cmd_prefix": "del ",
     "library": "var_list.py",
     "varRefreshCmd": "print(var_dic_list())"
    },
    "r": {
     "delete_cmd_postfix": ") ",
     "delete_cmd_prefix": "rm(",
     "library": "var_list.r",
     "varRefreshCmd": "cat(var_dic_list()) "
    }
   },
   "position": {
    "height": "432px",
    "left": "1246px",
    "right": "20px",
    "top": "151px",
    "width": "577px"
   },
   "types_to_exclude": [
    "module",
    "function",
    "builtin_function_or_method",
    "instance",
    "_Feature"
   ],
   "window_display": false
  },
  "widgets": {
   "application/vnd.jupyter.widget-state+json": {
    "0130c38f71a74e5f933a042117b1269e": {
     "model_module": "@jupyter-widgets/base",
     "model_name": "LayoutModel",
     "state": {
      "_model_module": "@jupyter-widgets/base",
      "_model_module_version": "1.2.0",
      "_model_name": "LayoutModel",
      "_view_count": null,
      "_view_module": "@jupyter-widgets/base",
      "_view_module_version": "1.2.0",
      "_view_name": "LayoutView",
      "align_content": null,
      "align_items": null,
      "align_self": null,
      "border": null,
      "bottom": null,
      "display": null,
      "flex": null,
      "flex_flow": null,
      "grid_area": null,
      "grid_auto_columns": null,
      "grid_auto_flow": null,
      "grid_auto_rows": null,
      "grid_column": null,
      "grid_gap": null,
      "grid_row": null,
      "grid_template_areas": null,
      "grid_template_columns": null,
      "grid_template_rows": null,
      "height": null,
      "justify_content": null,
      "justify_items": null,
      "left": null,
      "margin": null,
      "max_height": null,
      "max_width": null,
      "min_height": null,
      "min_width": null,
      "object_fit": null,
      "object_position": null,
      "order": null,
      "overflow": null,
      "overflow_x": null,
      "overflow_y": null,
      "padding": null,
      "right": null,
      "top": null,
      "visibility": null,
      "width": null
     }
    },
    "096f8dd75db34e0a87849116249aa1a8": {
     "model_module": "@jupyter-widgets/controls",
     "model_name": "HTMLModel",
     "state": {
      "_dom_classes": [],
      "_model_module": "@jupyter-widgets/controls",
      "_model_module_version": "1.5.0",
      "_model_name": "HTMLModel",
      "_view_count": null,
      "_view_module": "@jupyter-widgets/controls",
      "_view_module_version": "1.5.0",
      "_view_name": "HTMLView",
      "description": "",
      "description_tooltip": null,
      "layout": "IPY_MODEL_fa24181ec3af44cfbdf925e19dc37617",
      "placeholder": "​",
      "style": "IPY_MODEL_a15c25052c6742b0bcc82abae14561ff",
      "value": " 735/5000 [5:07:04&lt;28:05:59, 23.72s/it]"
     }
    },
    "1cb0afca3bfe47a98c5ae7124415fe86": {
     "model_module": "@jupyter-widgets/controls",
     "model_name": "FloatProgressModel",
     "state": {
      "_dom_classes": [],
      "_model_module": "@jupyter-widgets/controls",
      "_model_module_version": "1.5.0",
      "_model_name": "FloatProgressModel",
      "_view_count": null,
      "_view_module": "@jupyter-widgets/controls",
      "_view_module_version": "1.5.0",
      "_view_name": "ProgressView",
      "bar_style": "",
      "description": " 15%",
      "description_tooltip": null,
      "layout": "IPY_MODEL_ebf01fdc30584833a1cbfee928a2d6d7",
      "max": 5000,
      "min": 0,
      "orientation": "horizontal",
      "style": "IPY_MODEL_ab2a3bceba974e0ba05b9c59ca6da790",
      "value": 735
     }
    },
    "a15c25052c6742b0bcc82abae14561ff": {
     "model_module": "@jupyter-widgets/controls",
     "model_name": "DescriptionStyleModel",
     "state": {
      "_model_module": "@jupyter-widgets/controls",
      "_model_module_version": "1.5.0",
      "_model_name": "DescriptionStyleModel",
      "_view_count": null,
      "_view_module": "@jupyter-widgets/base",
      "_view_module_version": "1.2.0",
      "_view_name": "StyleView",
      "description_width": ""
     }
    },
    "ab2a3bceba974e0ba05b9c59ca6da790": {
     "model_module": "@jupyter-widgets/controls",
     "model_name": "ProgressStyleModel",
     "state": {
      "_model_module": "@jupyter-widgets/controls",
      "_model_module_version": "1.5.0",
      "_model_name": "ProgressStyleModel",
      "_view_count": null,
      "_view_module": "@jupyter-widgets/base",
      "_view_module_version": "1.2.0",
      "_view_name": "StyleView",
      "bar_color": null,
      "description_width": "initial"
     }
    },
    "ccbce3e44dac418bb1fbccc1689f5324": {
     "model_module": "@jupyter-widgets/controls",
     "model_name": "HBoxModel",
     "state": {
      "_dom_classes": [],
      "_model_module": "@jupyter-widgets/controls",
      "_model_module_version": "1.5.0",
      "_model_name": "HBoxModel",
      "_view_count": null,
      "_view_module": "@jupyter-widgets/controls",
      "_view_module_version": "1.5.0",
      "_view_name": "HBoxView",
      "box_style": "",
      "children": [
       "IPY_MODEL_1cb0afca3bfe47a98c5ae7124415fe86",
       "IPY_MODEL_096f8dd75db34e0a87849116249aa1a8"
      ],
      "layout": "IPY_MODEL_0130c38f71a74e5f933a042117b1269e"
     }
    },
    "ebf01fdc30584833a1cbfee928a2d6d7": {
     "model_module": "@jupyter-widgets/base",
     "model_name": "LayoutModel",
     "state": {
      "_model_module": "@jupyter-widgets/base",
      "_model_module_version": "1.2.0",
      "_model_name": "LayoutModel",
      "_view_count": null,
      "_view_module": "@jupyter-widgets/base",
      "_view_module_version": "1.2.0",
      "_view_name": "LayoutView",
      "align_content": null,
      "align_items": null,
      "align_self": null,
      "border": null,
      "bottom": null,
      "display": null,
      "flex": null,
      "flex_flow": null,
      "grid_area": null,
      "grid_auto_columns": null,
      "grid_auto_flow": null,
      "grid_auto_rows": null,
      "grid_column": null,
      "grid_gap": null,
      "grid_row": null,
      "grid_template_areas": null,
      "grid_template_columns": null,
      "grid_template_rows": null,
      "height": null,
      "justify_content": null,
      "justify_items": null,
      "left": null,
      "margin": null,
      "max_height": null,
      "max_width": null,
      "min_height": null,
      "min_width": null,
      "object_fit": null,
      "object_position": null,
      "order": null,
      "overflow": null,
      "overflow_x": null,
      "overflow_y": null,
      "padding": null,
      "right": null,
      "top": null,
      "visibility": null,
      "width": null
     }
    },
    "fa24181ec3af44cfbdf925e19dc37617": {
     "model_module": "@jupyter-widgets/base",
     "model_name": "LayoutModel",
     "state": {
      "_model_module": "@jupyter-widgets/base",
      "_model_module_version": "1.2.0",
      "_model_name": "LayoutModel",
      "_view_count": null,
      "_view_module": "@jupyter-widgets/base",
      "_view_module_version": "1.2.0",
      "_view_name": "LayoutView",
      "align_content": null,
      "align_items": null,
      "align_self": null,
      "border": null,
      "bottom": null,
      "display": null,
      "flex": null,
      "flex_flow": null,
      "grid_area": null,
      "grid_auto_columns": null,
      "grid_auto_flow": null,
      "grid_auto_rows": null,
      "grid_column": null,
      "grid_gap": null,
      "grid_row": null,
      "grid_template_areas": null,
      "grid_template_columns": null,
      "grid_template_rows": null,
      "height": null,
      "justify_content": null,
      "justify_items": null,
      "left": null,
      "margin": null,
      "max_height": null,
      "max_width": null,
      "min_height": null,
      "min_width": null,
      "object_fit": null,
      "object_position": null,
      "order": null,
      "overflow": null,
      "overflow_x": null,
      "overflow_y": null,
      "padding": null,
      "right": null,
      "top": null,
      "visibility": null,
      "width": null
     }
    }
   }
  }
 },
 "nbformat": 4,
 "nbformat_minor": 1
}
