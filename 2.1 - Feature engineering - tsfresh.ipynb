{
 "cells": [
  {
   "cell_type": "markdown",
   "metadata": {
    "ExecuteTime": {
     "end_time": "2021-05-15T12:36:59.060271Z",
     "start_time": "2021-05-15T12:36:59.056281Z"
    },
    "heading_collapsed": true
   },
   "source": [
    "# Packages"
   ]
  },
  {
   "cell_type": "code",
   "execution_count": 2,
   "metadata": {
    "ExecuteTime": {
     "end_time": "2021-08-31T13:19:10.979312Z",
     "start_time": "2021-08-31T13:19:04.541674Z"
    },
    "hidden": true,
    "id": "tlEBflwJYvKW"
   },
   "outputs": [],
   "source": [
    "import numpy as np\n",
    "import matplotlib.pyplot as plt\n",
    "from sklearn.preprocessing import StandardScaler\n",
    "import pandas as pd\n",
    "import pickle\n",
    "import tensorflow as tf\n",
    "import seaborn as sns\n",
    "import scipy as sp\n",
    "\n",
    "from sklearn.metrics import mean_squared_error, r2_score\n",
    "from sklearn.model_selection import KFold, TimeSeriesSplit, train_test_split\n",
    "from sklearn.feature_selection import SelectFromModel\n",
    "from sklearn.ensemble import RandomForestRegressor, AdaBoostRegressor, GradientBoostingRegressor, ExtraTreesRegressor\n",
    "from tsfresh.feature_selection.selection import select_features\n",
    "\n",
    "from tsfresh.utilities.dataframe_functions import roll_time_series\n",
    "from tsfresh import extract_features, select_features,extract_relevant_features\n",
    "from tsfresh.utilities.dataframe_functions import impute,make_forecasting_frame\n",
    "from tsfresh.feature_extraction import settings, EfficientFCParameters,MinimalFCParameters \n",
    "\n",
    "from tqdm import tqdm"
   ]
  },
  {
   "cell_type": "code",
   "execution_count": 3,
   "metadata": {
    "ExecuteTime": {
     "end_time": "2021-08-31T13:19:11.503698Z",
     "start_time": "2021-08-31T13:19:10.982310Z"
    },
    "hidden": true
   },
   "outputs": [],
   "source": [
    "from utils.model_summary_functions import feature_importance, metrics, summary_plot,multivariate_importance\n",
    "from utils.plotting import plot_autocorrelation"
   ]
  },
  {
   "cell_type": "code",
   "execution_count": 4,
   "metadata": {
    "ExecuteTime": {
     "end_time": "2021-08-31T13:19:11.519696Z",
     "start_time": "2021-08-31T13:19:11.505722Z"
    },
    "hidden": true,
    "id": "uJhSTzzaRM2D"
   },
   "outputs": [],
   "source": [
    "import warnings # Serve para ignorar mensagens de alerta que aparecem \n",
    "warnings.simplefilter(action='ignore', category=FutureWarning)"
   ]
  },
  {
   "cell_type": "code",
   "execution_count": 5,
   "metadata": {
    "ExecuteTime": {
     "end_time": "2021-08-31T13:19:11.535696Z",
     "start_time": "2021-08-31T13:19:11.520696Z"
    },
    "hidden": true
   },
   "outputs": [],
   "source": [
    "plt.style.use('default')\n",
    "\n",
    "plt.rcParams.update({\n",
    "    'font.size': 16,\n",
    "    'axes.linewidth': 2,\n",
    "    'axes.titlesize': 20,\n",
    "    'axes.edgecolor': 'black',\n",
    "    'axes.labelsize': 20,\n",
    "    'axes.grid': True,\n",
    "    'lines.linewidth': 1.5,\n",
    "    'lines.markersize': 6,\n",
    "    'figure.figsize': (15, 6),\n",
    "    'xtick.labelsize': 14,\n",
    "    'ytick.labelsize': 14,\n",
    "    'font.family': 'Arial',\n",
    "    'legend.fontsize': 13,\n",
    "    'legend.framealpha': 1,\n",
    "    'legend.edgecolor': 'black',\n",
    "    'legend.shadow': False,\n",
    "    'legend.fancybox': True,\n",
    "    'legend.frameon': True,\n",
    "    'text.color': 'black',\n",
    "    'axes.labelcolor': 'black',\n",
    "})\n"
   ]
  },
  {
   "cell_type": "code",
   "execution_count": 6,
   "metadata": {
    "ExecuteTime": {
     "end_time": "2021-08-31T13:19:11.677699Z",
     "start_time": "2021-08-31T13:19:11.536696Z"
    },
    "hidden": true
   },
   "outputs": [],
   "source": [
    "physical_devices = tf.config.list_physical_devices('GPU') \n",
    "tf.config.experimental.set_memory_growth(physical_devices[0], True)"
   ]
  },
  {
   "cell_type": "markdown",
   "metadata": {},
   "source": [
    "# Importing the reduced dataset"
   ]
  },
  {
   "cell_type": "code",
   "execution_count": 7,
   "metadata": {
    "ExecuteTime": {
     "end_time": "2021-08-31T13:19:11.930699Z",
     "start_time": "2021-08-31T13:19:11.679697Z"
    }
   },
   "outputs": [
    {
     "data": {
      "text/html": [
       "<div>\n",
       "<style scoped>\n",
       "    .dataframe tbody tr th:only-of-type {\n",
       "        vertical-align: middle;\n",
       "    }\n",
       "\n",
       "    .dataframe tbody tr th {\n",
       "        vertical-align: top;\n",
       "    }\n",
       "\n",
       "    .dataframe thead th {\n",
       "        text-align: right;\n",
       "    }\n",
       "</style>\n",
       "<table border=\"1\" class=\"dataframe\">\n",
       "  <thead>\n",
       "    <tr style=\"text-align: right;\">\n",
       "      <th></th>\n",
       "      <th>0</th>\n",
       "      <th>1</th>\n",
       "      <th>2</th>\n",
       "      <th>3</th>\n",
       "      <th>4</th>\n",
       "      <th>5</th>\n",
       "      <th>6</th>\n",
       "      <th>7</th>\n",
       "      <th>8</th>\n",
       "      <th>9</th>\n",
       "      <th>...</th>\n",
       "      <th>83</th>\n",
       "      <th>84</th>\n",
       "      <th>85</th>\n",
       "      <th>86</th>\n",
       "      <th>87</th>\n",
       "      <th>88</th>\n",
       "      <th>89</th>\n",
       "      <th>90</th>\n",
       "      <th>91</th>\n",
       "      <th>92</th>\n",
       "    </tr>\n",
       "  </thead>\n",
       "  <tbody>\n",
       "    <tr>\n",
       "      <th>0</th>\n",
       "      <td>5.472871</td>\n",
       "      <td>1.217982</td>\n",
       "      <td>6.230086</td>\n",
       "      <td>-0.950462</td>\n",
       "      <td>0.863161</td>\n",
       "      <td>-1.352218</td>\n",
       "      <td>4.725135</td>\n",
       "      <td>-4.429206</td>\n",
       "      <td>1.363932</td>\n",
       "      <td>-2.402084</td>\n",
       "      <td>...</td>\n",
       "      <td>0.042324</td>\n",
       "      <td>-0.628976</td>\n",
       "      <td>0.303736</td>\n",
       "      <td>1.050924</td>\n",
       "      <td>-0.319772</td>\n",
       "      <td>0.452098</td>\n",
       "      <td>-0.454401</td>\n",
       "      <td>-0.395371</td>\n",
       "      <td>-0.434333</td>\n",
       "      <td>-0.886681</td>\n",
       "    </tr>\n",
       "    <tr>\n",
       "      <th>1</th>\n",
       "      <td>5.456736</td>\n",
       "      <td>1.030217</td>\n",
       "      <td>6.275587</td>\n",
       "      <td>-0.838791</td>\n",
       "      <td>0.975329</td>\n",
       "      <td>-1.566040</td>\n",
       "      <td>4.830630</td>\n",
       "      <td>-4.338888</td>\n",
       "      <td>1.385022</td>\n",
       "      <td>-2.258257</td>\n",
       "      <td>...</td>\n",
       "      <td>0.149707</td>\n",
       "      <td>-0.568629</td>\n",
       "      <td>0.224101</td>\n",
       "      <td>0.962598</td>\n",
       "      <td>-0.370399</td>\n",
       "      <td>0.411446</td>\n",
       "      <td>-0.487105</td>\n",
       "      <td>-0.412622</td>\n",
       "      <td>-0.438104</td>\n",
       "      <td>-0.947290</td>\n",
       "    </tr>\n",
       "    <tr>\n",
       "      <th>2</th>\n",
       "      <td>5.456897</td>\n",
       "      <td>0.833749</td>\n",
       "      <td>6.308572</td>\n",
       "      <td>-0.730643</td>\n",
       "      <td>1.086719</td>\n",
       "      <td>-1.799117</td>\n",
       "      <td>4.927997</td>\n",
       "      <td>-4.225563</td>\n",
       "      <td>1.400620</td>\n",
       "      <td>-2.127380</td>\n",
       "      <td>...</td>\n",
       "      <td>0.244525</td>\n",
       "      <td>-0.515302</td>\n",
       "      <td>0.145613</td>\n",
       "      <td>0.862979</td>\n",
       "      <td>-0.416856</td>\n",
       "      <td>0.365906</td>\n",
       "      <td>-0.515017</td>\n",
       "      <td>-0.417493</td>\n",
       "      <td>-0.444786</td>\n",
       "      <td>-1.012555</td>\n",
       "    </tr>\n",
       "    <tr>\n",
       "      <th>3</th>\n",
       "      <td>5.472629</td>\n",
       "      <td>0.629589</td>\n",
       "      <td>6.327787</td>\n",
       "      <td>-0.628478</td>\n",
       "      <td>1.196396</td>\n",
       "      <td>-2.050700</td>\n",
       "      <td>5.015677</td>\n",
       "      <td>-4.089995</td>\n",
       "      <td>1.407393</td>\n",
       "      <td>-2.009958</td>\n",
       "      <td>...</td>\n",
       "      <td>0.322812</td>\n",
       "      <td>-0.469722</td>\n",
       "      <td>0.069574</td>\n",
       "      <td>0.750927</td>\n",
       "      <td>-0.458162</td>\n",
       "      <td>0.317323</td>\n",
       "      <td>-0.536380</td>\n",
       "      <td>-0.407113</td>\n",
       "      <td>-0.455174</td>\n",
       "      <td>-1.079685</td>\n",
       "    </tr>\n",
       "    <tr>\n",
       "      <th>4</th>\n",
       "      <td>5.501610</td>\n",
       "      <td>0.419481</td>\n",
       "      <td>6.331751</td>\n",
       "      <td>-0.534753</td>\n",
       "      <td>1.303558</td>\n",
       "      <td>-2.319721</td>\n",
       "      <td>5.092144</td>\n",
       "      <td>-3.933463</td>\n",
       "      <td>1.401821</td>\n",
       "      <td>-1.906113</td>\n",
       "      <td>...</td>\n",
       "      <td>0.380772</td>\n",
       "      <td>-0.431966</td>\n",
       "      <td>-0.002469</td>\n",
       "      <td>0.625161</td>\n",
       "      <td>-0.493436</td>\n",
       "      <td>0.267659</td>\n",
       "      <td>-0.549715</td>\n",
       "      <td>-0.378990</td>\n",
       "      <td>-0.469812</td>\n",
       "      <td>-1.145273</td>\n",
       "    </tr>\n",
       "    <tr>\n",
       "      <th>...</th>\n",
       "      <td>...</td>\n",
       "      <td>...</td>\n",
       "      <td>...</td>\n",
       "      <td>...</td>\n",
       "      <td>...</td>\n",
       "      <td>...</td>\n",
       "      <td>...</td>\n",
       "      <td>...</td>\n",
       "      <td>...</td>\n",
       "      <td>...</td>\n",
       "      <td>...</td>\n",
       "      <td>...</td>\n",
       "      <td>...</td>\n",
       "      <td>...</td>\n",
       "      <td>...</td>\n",
       "      <td>...</td>\n",
       "      <td>...</td>\n",
       "      <td>...</td>\n",
       "      <td>...</td>\n",
       "      <td>...</td>\n",
       "      <td>...</td>\n",
       "    </tr>\n",
       "    <tr>\n",
       "      <th>5995</th>\n",
       "      <td>-4.149586</td>\n",
       "      <td>1.311779</td>\n",
       "      <td>-1.733645</td>\n",
       "      <td>2.995828</td>\n",
       "      <td>-9.173312</td>\n",
       "      <td>2.279188</td>\n",
       "      <td>-0.460554</td>\n",
       "      <td>2.574104</td>\n",
       "      <td>1.066336</td>\n",
       "      <td>-3.507364</td>\n",
       "      <td>...</td>\n",
       "      <td>-0.038440</td>\n",
       "      <td>-0.516034</td>\n",
       "      <td>-0.068059</td>\n",
       "      <td>-1.804518</td>\n",
       "      <td>0.456283</td>\n",
       "      <td>0.363398</td>\n",
       "      <td>0.108329</td>\n",
       "      <td>-0.124854</td>\n",
       "      <td>-0.227933</td>\n",
       "      <td>0.457089</td>\n",
       "    </tr>\n",
       "    <tr>\n",
       "      <th>5996</th>\n",
       "      <td>-3.869611</td>\n",
       "      <td>1.194403</td>\n",
       "      <td>-1.635748</td>\n",
       "      <td>3.000731</td>\n",
       "      <td>-9.144402</td>\n",
       "      <td>2.275107</td>\n",
       "      <td>-0.266543</td>\n",
       "      <td>2.343572</td>\n",
       "      <td>1.135160</td>\n",
       "      <td>-3.420423</td>\n",
       "      <td>...</td>\n",
       "      <td>-0.124407</td>\n",
       "      <td>-0.503931</td>\n",
       "      <td>-0.087439</td>\n",
       "      <td>-1.899951</td>\n",
       "      <td>0.439299</td>\n",
       "      <td>0.353236</td>\n",
       "      <td>0.017841</td>\n",
       "      <td>-0.117174</td>\n",
       "      <td>-0.337113</td>\n",
       "      <td>0.505647</td>\n",
       "    </tr>\n",
       "    <tr>\n",
       "      <th>5997</th>\n",
       "      <td>-3.593313</td>\n",
       "      <td>1.100201</td>\n",
       "      <td>-1.565852</td>\n",
       "      <td>3.003578</td>\n",
       "      <td>-9.102322</td>\n",
       "      <td>2.267642</td>\n",
       "      <td>-0.078799</td>\n",
       "      <td>2.113092</td>\n",
       "      <td>1.207276</td>\n",
       "      <td>-3.346010</td>\n",
       "      <td>...</td>\n",
       "      <td>-0.207155</td>\n",
       "      <td>-0.505051</td>\n",
       "      <td>-0.082344</td>\n",
       "      <td>-1.931616</td>\n",
       "      <td>0.433744</td>\n",
       "      <td>0.329172</td>\n",
       "      <td>-0.068791</td>\n",
       "      <td>-0.108082</td>\n",
       "      <td>-0.390954</td>\n",
       "      <td>0.545995</td>\n",
       "    </tr>\n",
       "    <tr>\n",
       "      <th>5998</th>\n",
       "      <td>-3.312633</td>\n",
       "      <td>1.021631</td>\n",
       "      <td>-1.519267</td>\n",
       "      <td>3.001866</td>\n",
       "      <td>-9.045092</td>\n",
       "      <td>2.256996</td>\n",
       "      <td>0.095221</td>\n",
       "      <td>1.893864</td>\n",
       "      <td>1.292517</td>\n",
       "      <td>-3.293154</td>\n",
       "      <td>...</td>\n",
       "      <td>-0.283526</td>\n",
       "      <td>-0.518721</td>\n",
       "      <td>-0.052140</td>\n",
       "      <td>-1.902229</td>\n",
       "      <td>0.440545</td>\n",
       "      <td>0.296793</td>\n",
       "      <td>-0.149900</td>\n",
       "      <td>-0.107087</td>\n",
       "      <td>-0.395280</td>\n",
       "      <td>0.572288</td>\n",
       "    </tr>\n",
       "    <tr>\n",
       "      <th>5999</th>\n",
       "      <td>-3.022673</td>\n",
       "      <td>0.952693</td>\n",
       "      <td>-1.493302</td>\n",
       "      <td>2.994005</td>\n",
       "      <td>-8.970342</td>\n",
       "      <td>2.243358</td>\n",
       "      <td>0.248464</td>\n",
       "      <td>1.694254</td>\n",
       "      <td>1.399390</td>\n",
       "      <td>-3.266538</td>\n",
       "      <td>...</td>\n",
       "      <td>-0.351543</td>\n",
       "      <td>-0.544281</td>\n",
       "      <td>-0.000141</td>\n",
       "      <td>-1.818379</td>\n",
       "      <td>0.458232</td>\n",
       "      <td>0.260236</td>\n",
       "      <td>-0.222440</td>\n",
       "      <td>-0.119396</td>\n",
       "      <td>-0.357581</td>\n",
       "      <td>0.580647</td>\n",
       "    </tr>\n",
       "  </tbody>\n",
       "</table>\n",
       "<p>6000 rows × 93 columns</p>\n",
       "</div>"
      ],
      "text/plain": [
       "             0         1         2         3         4         5         6  \\\n",
       "0     5.472871  1.217982  6.230086 -0.950462  0.863161 -1.352218  4.725135   \n",
       "1     5.456736  1.030217  6.275587 -0.838791  0.975329 -1.566040  4.830630   \n",
       "2     5.456897  0.833749  6.308572 -0.730643  1.086719 -1.799117  4.927997   \n",
       "3     5.472629  0.629589  6.327787 -0.628478  1.196396 -2.050700  5.015677   \n",
       "4     5.501610  0.419481  6.331751 -0.534753  1.303558 -2.319721  5.092144   \n",
       "...        ...       ...       ...       ...       ...       ...       ...   \n",
       "5995 -4.149586  1.311779 -1.733645  2.995828 -9.173312  2.279188 -0.460554   \n",
       "5996 -3.869611  1.194403 -1.635748  3.000731 -9.144402  2.275107 -0.266543   \n",
       "5997 -3.593313  1.100201 -1.565852  3.003578 -9.102322  2.267642 -0.078799   \n",
       "5998 -3.312633  1.021631 -1.519267  3.001866 -9.045092  2.256996  0.095221   \n",
       "5999 -3.022673  0.952693 -1.493302  2.994005 -8.970342  2.243358  0.248464   \n",
       "\n",
       "             7         8         9  ...        83        84        85  \\\n",
       "0    -4.429206  1.363932 -2.402084  ...  0.042324 -0.628976  0.303736   \n",
       "1    -4.338888  1.385022 -2.258257  ...  0.149707 -0.568629  0.224101   \n",
       "2    -4.225563  1.400620 -2.127380  ...  0.244525 -0.515302  0.145613   \n",
       "3    -4.089995  1.407393 -2.009958  ...  0.322812 -0.469722  0.069574   \n",
       "4    -3.933463  1.401821 -1.906113  ...  0.380772 -0.431966 -0.002469   \n",
       "...        ...       ...       ...  ...       ...       ...       ...   \n",
       "5995  2.574104  1.066336 -3.507364  ... -0.038440 -0.516034 -0.068059   \n",
       "5996  2.343572  1.135160 -3.420423  ... -0.124407 -0.503931 -0.087439   \n",
       "5997  2.113092  1.207276 -3.346010  ... -0.207155 -0.505051 -0.082344   \n",
       "5998  1.893864  1.292517 -3.293154  ... -0.283526 -0.518721 -0.052140   \n",
       "5999  1.694254  1.399390 -3.266538  ... -0.351543 -0.544281 -0.000141   \n",
       "\n",
       "            86        87        88        89        90        91        92  \n",
       "0     1.050924 -0.319772  0.452098 -0.454401 -0.395371 -0.434333 -0.886681  \n",
       "1     0.962598 -0.370399  0.411446 -0.487105 -0.412622 -0.438104 -0.947290  \n",
       "2     0.862979 -0.416856  0.365906 -0.515017 -0.417493 -0.444786 -1.012555  \n",
       "3     0.750927 -0.458162  0.317323 -0.536380 -0.407113 -0.455174 -1.079685  \n",
       "4     0.625161 -0.493436  0.267659 -0.549715 -0.378990 -0.469812 -1.145273  \n",
       "...        ...       ...       ...       ...       ...       ...       ...  \n",
       "5995 -1.804518  0.456283  0.363398  0.108329 -0.124854 -0.227933  0.457089  \n",
       "5996 -1.899951  0.439299  0.353236  0.017841 -0.117174 -0.337113  0.505647  \n",
       "5997 -1.931616  0.433744  0.329172 -0.068791 -0.108082 -0.390954  0.545995  \n",
       "5998 -1.902229  0.440545  0.296793 -0.149900 -0.107087 -0.395280  0.572288  \n",
       "5999 -1.818379  0.458232  0.260236 -0.222440 -0.119396 -0.357581  0.580647  \n",
       "\n",
       "[6000 rows x 93 columns]"
      ]
     },
     "execution_count": 7,
     "metadata": {},
     "output_type": "execute_result"
    }
   ],
   "source": [
    "df = pd.read_csv('Processed_datasets/reduced_dataset.csv.zip')\n",
    "df"
   ]
  },
  {
   "cell_type": "code",
   "execution_count": 8,
   "metadata": {},
   "outputs": [
    {
     "data": {
      "text/html": [
       "<div>\n",
       "<style scoped>\n",
       "    .dataframe tbody tr th:only-of-type {\n",
       "        vertical-align: middle;\n",
       "    }\n",
       "\n",
       "    .dataframe tbody tr th {\n",
       "        vertical-align: top;\n",
       "    }\n",
       "\n",
       "    .dataframe thead th {\n",
       "        text-align: right;\n",
       "    }\n",
       "</style>\n",
       "<table border=\"1\" class=\"dataframe\">\n",
       "  <thead>\n",
       "    <tr style=\"text-align: right;\">\n",
       "      <th></th>\n",
       "      <th>90</th>\n",
       "    </tr>\n",
       "  </thead>\n",
       "  <tbody>\n",
       "    <tr>\n",
       "      <th>0</th>\n",
       "      <td>-0.395371</td>\n",
       "    </tr>\n",
       "    <tr>\n",
       "      <th>1</th>\n",
       "      <td>-0.412622</td>\n",
       "    </tr>\n",
       "    <tr>\n",
       "      <th>2</th>\n",
       "      <td>-0.417493</td>\n",
       "    </tr>\n",
       "    <tr>\n",
       "      <th>3</th>\n",
       "      <td>-0.407113</td>\n",
       "    </tr>\n",
       "    <tr>\n",
       "      <th>4</th>\n",
       "      <td>-0.378990</td>\n",
       "    </tr>\n",
       "    <tr>\n",
       "      <th>...</th>\n",
       "      <td>...</td>\n",
       "    </tr>\n",
       "    <tr>\n",
       "      <th>5995</th>\n",
       "      <td>-0.124854</td>\n",
       "    </tr>\n",
       "    <tr>\n",
       "      <th>5996</th>\n",
       "      <td>-0.117174</td>\n",
       "    </tr>\n",
       "    <tr>\n",
       "      <th>5997</th>\n",
       "      <td>-0.108082</td>\n",
       "    </tr>\n",
       "    <tr>\n",
       "      <th>5998</th>\n",
       "      <td>-0.107087</td>\n",
       "    </tr>\n",
       "    <tr>\n",
       "      <th>5999</th>\n",
       "      <td>-0.119396</td>\n",
       "    </tr>\n",
       "  </tbody>\n",
       "</table>\n",
       "<p>6000 rows × 1 columns</p>\n",
       "</div>"
      ],
      "text/plain": [
       "            90\n",
       "0    -0.395371\n",
       "1    -0.412622\n",
       "2    -0.417493\n",
       "3    -0.407113\n",
       "4    -0.378990\n",
       "...        ...\n",
       "5995 -0.124854\n",
       "5996 -0.117174\n",
       "5997 -0.108082\n",
       "5998 -0.107087\n",
       "5999 -0.119396\n",
       "\n",
       "[6000 rows x 1 columns]"
      ]
     },
     "execution_count": 8,
     "metadata": {},
     "output_type": "execute_result"
    }
   ],
   "source": [
    "eigenvector = 90\n",
    "series = pd.DataFrame(df[df.columns[eigenvector]])  # Grabbing one of the 92 eigenvectors\n",
    "series"
   ]
  },
  {
   "cell_type": "markdown",
   "metadata": {},
   "source": [
    "# Feature extraction - Tsfresh"
   ]
  },
  {
   "cell_type": "code",
   "execution_count": 9,
   "metadata": {
    "ExecuteTime": {
     "end_time": "2021-08-31T13:19:32.027756Z",
     "start_time": "2021-08-31T13:19:04.665Z"
    }
   },
   "outputs": [],
   "source": [
    "# With the following function we can select highly correlated features\n",
    "# it will remove the first feature that is correlated with any other feature\n",
    "\n",
    "def correlation(dataset, threshold):\n",
    "    col_corr = set()  # Set of all the names of correlated columns\n",
    "    corr_matrix = dataset.corr()\n",
    "    for i in range(len(corr_matrix.columns)):\n",
    "        for j in range(i):\n",
    "            # we are interested in absolute coeff value\n",
    "            if abs(corr_matrix.iloc[i, j]) > threshold:\n",
    "                colname = corr_matrix.columns[i]  # getting the name of column\n",
    "                col_corr.add(colname)\n",
    "    return col_corr"
   ]
  },
  {
   "cell_type": "code",
   "execution_count": 10,
   "metadata": {
    "ExecuteTime": {
     "end_time": "2021-08-31T13:19:32.028757Z",
     "start_time": "2021-08-31T13:19:04.667Z"
    }
   },
   "outputs": [],
   "source": [
    "def create_input_dataset(eigenvector,MEMORY=20,HORIZON=1):\n",
    "     \n",
    "    # Extract an eigenvector from the dataframe\n",
    "    time_series = eigenvector[eigenvector.columns[0]]\n",
    "        \n",
    "    # Create input dataset and target variable (1 step ahead)\n",
    "    df_shift, _ = make_forecasting_frame(time_series,\n",
    "                                          kind='Eigenvector',\n",
    "                                          max_timeshift=MEMORY,\n",
    "                                          rolling_direction=1)\n",
    "\n",
    "    \n",
    "    print('Feature extraction started')\n",
    "        \n",
    "    # Feature extraction using tsfresh\n",
    "    X = extract_features(df_shift,\n",
    "                             column_id=\"id\",\n",
    "                             column_sort=\"time\",\n",
    "                             column_value=\"value\",\n",
    "                             impute_function=impute,\n",
    "                             n_jobs=6,\n",
    "                             show_warnings=False,\n",
    "                             disable_progressbar=True)\n",
    "        \n",
    "    print('Feature extraction completed')\n",
    "        \n",
    "    # Remove constant features\n",
    "    X = X.loc[:, X.apply(pd.Series.nunique) != 1] \n",
    "        \n",
    "    # Remove redundant features using univariate correlation\n",
    "    corr_features = correlation(X, 0.95) \n",
    "    X_filtered = X.drop(corr_features, axis=1)\n",
    "    X_selected = X_filtered.reset_index(level=0, drop=True)\n",
    "    \n",
    "    # Create dataset - Multistep ahead forecasting instead of one step ahead\n",
    "    y = time_series.shift(-HORIZON)\n",
    "    y.dropna(inplace=True,axis=0)\n",
    "\n",
    "    X = X_selected[X_selected.index.isin(y.index)]\n",
    "    y = y[y.index.isin(X_selected.index)]\n",
    "    \n",
    "    y = np.ravel(y)\n",
    "    print(X.shape)\n",
    "    \n",
    "    \n",
    "    # Remove features from statistical sets\n",
    "    # X_selected = select_features(X,y,n_jobs=6)\n",
    "        \n",
    "    # Multivariate correlation\n",
    "    X_train, X_test, y_train, y_test = train_test_split(X, y, random_state=0,shuffle=False,test_size=0.15)\n",
    "    # multi_select = multivariate_importance(X_train, X_test, y_train, y_test)\n",
    "    # multi_select.plot(relative=False,topn=4)\n",
    "    # plt.show()\n",
    "    \n",
    "    # Train model\n",
    "    mdl = GradientBoostingRegressor(n_estimators=100, random_state=0)\n",
    "    mdl.fit(X_train, y_train)\n",
    "    yhat = mdl.predict(X_test)\n",
    "    memory_list_before_fs.append(mean_squared_error(y_test, yhat))\n",
    "\n",
    "    \n",
    "    # Multivariate feature selection\n",
    "    selector = SelectFromModel(estimator=mdl, threshold='6*mean')\n",
    "    selector.fit(X_train, y_train)\n",
    "\n",
    "    selected_feat = X_train.columns[(selector.get_support())]\n",
    "    X_final = X[selected_feat]\n",
    "    print(X_final.shape)\n",
    "    \n",
    "    X_train, X_test, y_train, y_test = train_test_split(X_final, y, random_state=0, shuffle=False, test_size=0.15)\n",
    "    mdl.fit(X_train, y_train)\n",
    "    yhat = mdl.predict(X_test)\n",
    "    memory_list_after_fs.append(mean_squared_error(y_test, yhat))\n",
    "    \n",
    "    \n",
    "    df_final = pd.concat([X_final, pd.DataFrame(y)], axis=1)\n",
    "    df_final.dropna(inplace=True, axis=0)\n",
    "\n",
    "    print('Feature selection completed')\n",
    "    \n",
    "        \n",
    "\n",
    "    metrics(yhat,y_test)\n",
    "    print('Function has finished')\n",
    "        \n",
    "    return X,y\n"
   ]
  },
  {
   "cell_type": "code",
   "execution_count": 11,
   "metadata": {
    "ExecuteTime": {
     "end_time": "2021-08-31T13:19:32.029759Z",
     "start_time": "2021-08-31T13:19:04.670Z"
    }
   },
   "outputs": [],
   "source": [
    "# memory_list_before_fs = []\n",
    "# memory_list_after_fs = []\n",
    "\n",
    "\n",
    "# rabe = np.arange(2, 14, 1)\n",
    "# for memory in tqdm(rabe):\n",
    "#     X, y = create_input_dataset(series, MEMORY=memory,HORIZON=15)"
   ]
  },
  {
   "cell_type": "code",
   "execution_count": 12,
   "metadata": {},
   "outputs": [],
   "source": [
    "# plt.plot(rabe,memory_list_before_fs,label='Before')\n",
    "# plt.plot(rabe, memory_list_after_fs,label='After')\n",
    "# plt.legend()"
   ]
  },
  {
   "cell_type": "code",
   "execution_count": 13,
   "metadata": {
    "ExecuteTime": {
     "end_time": "2021-08-31T13:19:32.032759Z",
     "start_time": "2021-08-31T13:19:04.676Z"
    }
   },
   "outputs": [
    {
     "name": "stdout",
     "output_type": "stream",
     "text": [
      "This dataset forecasts 0.376 Lyapunov times into the future\n"
     ]
    }
   ],
   "source": [
    "HORIZON = 16\n",
    "MLE = 0.094\n",
    "dt = 0.25\n",
    "\n",
    "print('This dataset forecasts {} Lyapunov times into the future'.format(HORIZON*dt*MLE))"
   ]
  },
  {
   "cell_type": "markdown",
   "metadata": {},
   "source": [
    "# Generating dataset for all time series"
   ]
  },
  {
   "cell_type": "code",
   "execution_count": 14,
   "metadata": {
    "ExecuteTime": {
     "end_time": "2021-08-31T13:19:32.048754Z",
     "start_time": "2021-08-31T13:19:04.779Z"
    }
   },
   "outputs": [],
   "source": [
    "from sklearn.feature_selection import SelectFromModel\n",
    "from sklearn.ensemble import RandomForestRegressor, AdaBoostRegressor, GradientBoostingRegressor, ExtraTreesRegressor\n",
    "from tsfresh.utilities.dataframe_functions import make_forecasting_frame\n",
    "from tsfresh import extract_features\n",
    "from sklearn.model_selection import cross_val_score"
   ]
  },
  {
   "cell_type": "code",
   "execution_count": 15,
   "metadata": {
    "ExecuteTime": {
     "end_time": "2021-08-31T13:19:32.049756Z",
     "start_time": "2021-08-31T13:19:04.781Z"
    }
   },
   "outputs": [],
   "source": [
    "def create_dataset_for_each_eigenvector(df,MEMORY,HORIZON):\n",
    "    \n",
    "    eigenvectors = np.arange(0,93,1)\n",
    "    \n",
    "    for i in tqdm(eigenvectors):\n",
    "        \n",
    "        # Extract an eigenvector from the dataframe\n",
    "        time_series = pd.DataFrame(df[df.columns[i]]) \n",
    "        \n",
    "        # Create input dataset and target variable\n",
    "        df_shift, _ = make_forecasting_frame(time_series[time_series.columns[0]],\n",
    "                                          kind='Eigenvector',\n",
    "                                             max_timeshift=MEMORY,\n",
    "                                          rolling_direction=1)\n",
    "        \n",
    "        print('Feature extraction started')\n",
    "        \n",
    "        # Feature extraction using tsfresh\n",
    "        X = extract_features(df_shift,\n",
    "                             column_id=\"id\",\n",
    "                             column_sort=\"time\",\n",
    "                             column_value=\"value\",\n",
    "                             impute_function=impute,\n",
    "                             n_jobs=6,\n",
    "                             show_warnings=False,\n",
    "                             disable_progressbar=True)\n",
    "        \n",
    "        print('Feature extraction completed')\n",
    "        \n",
    "        # Remove constant features\n",
    "        X = X.loc[:, X.apply(pd.Series.nunique) != 1] \n",
    "        \n",
    "        # Remove redundant features using univariate correlation\n",
    "        corr_features = correlation(X, 0.95) \n",
    "        X_filtered = X.drop(corr_features, axis=1)\n",
    "        X_filtered = X_filtered.reset_index(level=0, drop=True)\n",
    "        \n",
    "        # Create dataset - Multistep ahead forecasting instead of one step ahead\n",
    "        y = time_series.shift(-HORIZON)\n",
    "        y.dropna(inplace=True, axis=0)\n",
    "\n",
    "        X = X_filtered[X_filtered.index.isin(y.index)]\n",
    "        y = y[y.index.isin(X_filtered.index)]\n",
    "\n",
    "        y = np.ravel(y)\n",
    "        \n",
    "        print(X.shape)\n",
    "        \n",
    "        # Remove features from statistical sets\n",
    "        X_selected = select_features(X, y, n_jobs=6)\n",
    "\n",
    "        # Training a baseline model\n",
    "        X_train, X_test, y_train, y_test = train_test_split(X, y, random_state=0, shuffle=False, test_size=0.2)\n",
    "        extra_trees = GradientBoostingRegressor(n_estimators=100, random_state=0)\n",
    "        extra_trees.fit(X_train, y_train)\n",
    "        \n",
    "        # Multivariate feature selection\n",
    "        selector = SelectFromModel(estimator=extra_trees, threshold='8*mean')\n",
    "        selector.fit(X_train, y_train)\n",
    "        \n",
    "        print('Feature selection completed')\n",
    "        \n",
    "        selected_feat = X_train.columns[(selector.get_support())]\n",
    "        X_final = X[selected_feat]\n",
    "        df_final = pd.concat([X_final, pd.DataFrame(y)], axis=1)\n",
    "        df_final.dropna(inplace=True, axis=0)\n",
    "        \n",
    "        print(X_final.shape)\n",
    "        \n",
    "        # Dataset after feature selection\n",
    "        #df_final = pd.concat([X_selected, pd.DataFrame(y)], axis=1)\n",
    "        \n",
    "        \n",
    "        # Print results from cross validation\n",
    "        # cv = TimeSeriesSplit(n_splits=3)\n",
    "        # scores = cross_val_score(extra_trees, X_final, y, scoring='r2', cv=cv)\n",
    "        # print('Eigenvector '+str(i), 'R2 score: ',str(scores.mean()), '+-', str(scores.std()))\n",
    "        \n",
    "        # Export dataset\n",
    "        #df_final.to_csv('dataframe_time_series/df_eigenvector_{0}__r2_cv_score_{1}.csv'.format(i, round(scores.mean(),4)))\n",
    "        df_final.to_csv('dataframe_time_series/df_eigenvector_{0}.csv'.format(i))\n"
   ]
  },
  {
   "cell_type": "code",
   "execution_count": 17,
   "metadata": {
    "ExecuteTime": {
     "end_time": "2021-08-31T13:19:32.049756Z",
     "start_time": "2021-08-31T13:19:04.784Z"
    }
   },
   "outputs": [
    {
     "name": "stderr",
     "output_type": "stream",
     "text": [
      "Rolling: 100%|██████████| 30/30 [00:10<00:00,  2.90it/s]\n"
     ]
    },
    {
     "name": "stdout",
     "output_type": "stream",
     "text": [
      "Feature extraction started\n",
      "Feature extraction completed\n",
      "(5987, 83)\n"
     ]
    },
    {
     "name": "stderr",
     "output_type": "stream",
     "text": [
      "  1%|          | 1/93 [01:22<2:06:22, 82.41s/it]"
     ]
    },
    {
     "name": "stdout",
     "output_type": "stream",
     "text": [
      "Feature selection completed\n",
      "(5987, 2)\n"
     ]
    },
    {
     "name": "stderr",
     "output_type": "stream",
     "text": [
      "Rolling: 100%|██████████| 30/30 [00:09<00:00,  3.23it/s]\n"
     ]
    },
    {
     "name": "stdout",
     "output_type": "stream",
     "text": [
      "Feature extraction started\n",
      "Feature extraction completed\n",
      "(5987, 83)\n"
     ]
    },
    {
     "name": "stderr",
     "output_type": "stream",
     "text": [
      "  2%|▏         | 2/93 [02:52<2:11:26, 86.66s/it]"
     ]
    },
    {
     "name": "stdout",
     "output_type": "stream",
     "text": [
      "Feature selection completed\n",
      "(5987, 4)\n"
     ]
    },
    {
     "name": "stderr",
     "output_type": "stream",
     "text": [
      "Rolling: 100%|██████████| 30/30 [00:09<00:00,  3.12it/s]\n"
     ]
    },
    {
     "name": "stdout",
     "output_type": "stream",
     "text": [
      "Feature extraction started\n",
      "Feature extraction completed\n",
      "(5987, 84)\n"
     ]
    },
    {
     "name": "stderr",
     "output_type": "stream",
     "text": [
      "  3%|▎         | 3/93 [04:22<2:12:32, 88.36s/it]"
     ]
    },
    {
     "name": "stdout",
     "output_type": "stream",
     "text": [
      "Feature selection completed\n",
      "(5987, 3)\n"
     ]
    },
    {
     "name": "stderr",
     "output_type": "stream",
     "text": [
      "Rolling: 100%|██████████| 30/30 [00:10<00:00,  2.87it/s]\n"
     ]
    },
    {
     "name": "stdout",
     "output_type": "stream",
     "text": [
      "Feature extraction started\n",
      "Feature extraction completed\n",
      "(5987, 83)\n"
     ]
    },
    {
     "name": "stderr",
     "output_type": "stream",
     "text": [
      "  4%|▍         | 4/93 [05:49<2:10:35, 88.04s/it]"
     ]
    },
    {
     "name": "stdout",
     "output_type": "stream",
     "text": [
      "Feature selection completed\n",
      "(5987, 3)\n"
     ]
    },
    {
     "name": "stderr",
     "output_type": "stream",
     "text": [
      "Rolling: 100%|██████████| 30/30 [00:13<00:00,  2.30it/s]\n"
     ]
    },
    {
     "name": "stdout",
     "output_type": "stream",
     "text": [
      "Feature extraction started\n",
      "Feature extraction completed\n",
      "(5987, 84)\n"
     ]
    },
    {
     "name": "stderr",
     "output_type": "stream",
     "text": [
      "  5%|▌         | 5/93 [07:28<2:14:34, 91.76s/it]"
     ]
    },
    {
     "name": "stdout",
     "output_type": "stream",
     "text": [
      "Feature selection completed\n",
      "(5987, 4)\n"
     ]
    },
    {
     "name": "stderr",
     "output_type": "stream",
     "text": [
      "Rolling: 100%|██████████| 30/30 [00:10<00:00,  2.93it/s]\n"
     ]
    },
    {
     "name": "stdout",
     "output_type": "stream",
     "text": [
      "Feature extraction started\n",
      "Feature extraction completed\n",
      "(5987, 83)\n"
     ]
    },
    {
     "name": "stderr",
     "output_type": "stream",
     "text": [
      "  6%|▋         | 6/93 [09:00<2:13:11, 91.85s/it]"
     ]
    },
    {
     "name": "stdout",
     "output_type": "stream",
     "text": [
      "Feature selection completed\n",
      "(5987, 2)\n"
     ]
    },
    {
     "name": "stderr",
     "output_type": "stream",
     "text": [
      "Rolling: 100%|██████████| 30/30 [00:11<00:00,  2.73it/s]\n"
     ]
    },
    {
     "name": "stdout",
     "output_type": "stream",
     "text": [
      "Feature extraction started\n",
      "Feature extraction completed\n",
      "(5987, 85)\n"
     ]
    },
    {
     "name": "stderr",
     "output_type": "stream",
     "text": [
      "  8%|▊         | 7/93 [10:31<2:11:12, 91.54s/it]"
     ]
    },
    {
     "name": "stdout",
     "output_type": "stream",
     "text": [
      "Feature selection completed\n",
      "(5987, 3)\n"
     ]
    },
    {
     "name": "stderr",
     "output_type": "stream",
     "text": [
      "Rolling: 100%|██████████| 30/30 [00:10<00:00,  2.85it/s]\n"
     ]
    },
    {
     "name": "stdout",
     "output_type": "stream",
     "text": [
      "Feature extraction started\n",
      "Feature extraction completed\n",
      "(5987, 79)\n"
     ]
    },
    {
     "name": "stderr",
     "output_type": "stream",
     "text": [
      "  9%|▊         | 8/93 [12:00<2:08:36, 90.79s/it]"
     ]
    },
    {
     "name": "stdout",
     "output_type": "stream",
     "text": [
      "Feature selection completed\n",
      "(5987, 3)\n"
     ]
    },
    {
     "name": "stderr",
     "output_type": "stream",
     "text": [
      "Rolling: 100%|██████████| 30/30 [00:10<00:00,  2.83it/s]\n"
     ]
    },
    {
     "name": "stdout",
     "output_type": "stream",
     "text": [
      "Feature extraction started\n",
      "Feature extraction completed\n",
      "(5987, 85)\n"
     ]
    },
    {
     "name": "stderr",
     "output_type": "stream",
     "text": [
      " 10%|▉         | 9/93 [13:33<2:08:13, 91.59s/it]"
     ]
    },
    {
     "name": "stdout",
     "output_type": "stream",
     "text": [
      "Feature selection completed\n",
      "(5987, 4)\n"
     ]
    },
    {
     "name": "stderr",
     "output_type": "stream",
     "text": [
      "Rolling: 100%|██████████| 30/30 [00:12<00:00,  2.45it/s]\n"
     ]
    },
    {
     "name": "stdout",
     "output_type": "stream",
     "text": [
      "Feature extraction started\n",
      "Feature extraction completed\n",
      "(5987, 84)\n"
     ]
    },
    {
     "name": "stderr",
     "output_type": "stream",
     "text": [
      " 11%|█         | 10/93 [15:09<2:08:24, 92.82s/it]"
     ]
    },
    {
     "name": "stdout",
     "output_type": "stream",
     "text": [
      "Feature selection completed\n",
      "(5987, 4)\n"
     ]
    },
    {
     "name": "stderr",
     "output_type": "stream",
     "text": [
      "Rolling: 100%|██████████| 30/30 [00:10<00:00,  2.79it/s]\n"
     ]
    },
    {
     "name": "stdout",
     "output_type": "stream",
     "text": [
      "Feature extraction started\n",
      "Feature extraction completed\n",
      "(5987, 84)\n"
     ]
    },
    {
     "name": "stderr",
     "output_type": "stream",
     "text": [
      " 12%|█▏        | 11/93 [16:44<2:07:47, 93.51s/it]"
     ]
    },
    {
     "name": "stdout",
     "output_type": "stream",
     "text": [
      "Feature selection completed\n",
      "(5987, 3)\n"
     ]
    },
    {
     "name": "stderr",
     "output_type": "stream",
     "text": [
      "Rolling: 100%|██████████| 30/30 [00:10<00:00,  2.81it/s]\n"
     ]
    },
    {
     "name": "stdout",
     "output_type": "stream",
     "text": [
      "Feature extraction started\n",
      "Feature extraction completed\n",
      "(5987, 83)\n"
     ]
    },
    {
     "name": "stderr",
     "output_type": "stream",
     "text": [
      " 13%|█▎        | 12/93 [18:24<2:08:55, 95.50s/it]"
     ]
    },
    {
     "name": "stdout",
     "output_type": "stream",
     "text": [
      "Feature selection completed\n",
      "(5987, 3)\n"
     ]
    },
    {
     "name": "stderr",
     "output_type": "stream",
     "text": [
      "Rolling: 100%|██████████| 30/30 [00:10<00:00,  2.74it/s]\n"
     ]
    },
    {
     "name": "stdout",
     "output_type": "stream",
     "text": [
      "Feature extraction started\n",
      "Feature extraction completed\n",
      "(5987, 84)\n"
     ]
    },
    {
     "name": "stderr",
     "output_type": "stream",
     "text": [
      " 14%|█▍        | 13/93 [20:13<2:12:58, 99.73s/it]"
     ]
    },
    {
     "name": "stdout",
     "output_type": "stream",
     "text": [
      "Feature selection completed\n",
      "(5987, 2)\n"
     ]
    },
    {
     "name": "stderr",
     "output_type": "stream",
     "text": [
      "Rolling: 100%|██████████| 30/30 [00:12<00:00,  2.32it/s]\n"
     ]
    },
    {
     "name": "stdout",
     "output_type": "stream",
     "text": [
      "Feature extraction started\n",
      "Feature extraction completed\n",
      "(5987, 85)\n"
     ]
    },
    {
     "name": "stderr",
     "output_type": "stream",
     "text": [
      " 15%|█▌        | 14/93 [22:02<2:14:46, 102.36s/it]"
     ]
    },
    {
     "name": "stdout",
     "output_type": "stream",
     "text": [
      "Feature selection completed\n",
      "(5987, 3)\n"
     ]
    },
    {
     "name": "stderr",
     "output_type": "stream",
     "text": [
      "Rolling: 100%|██████████| 30/30 [00:13<00:00,  2.26it/s]\n"
     ]
    },
    {
     "name": "stdout",
     "output_type": "stream",
     "text": [
      "Feature extraction started\n",
      "Feature extraction completed\n",
      "(5987, 83)\n"
     ]
    },
    {
     "name": "stderr",
     "output_type": "stream",
     "text": [
      " 16%|█▌        | 15/93 [23:51<2:15:37, 104.33s/it]"
     ]
    },
    {
     "name": "stdout",
     "output_type": "stream",
     "text": [
      "Feature selection completed\n",
      "(5987, 2)\n"
     ]
    },
    {
     "name": "stderr",
     "output_type": "stream",
     "text": [
      "Rolling: 100%|██████████| 30/30 [00:13<00:00,  2.29it/s]\n"
     ]
    },
    {
     "name": "stdout",
     "output_type": "stream",
     "text": [
      "Feature extraction started\n",
      "Feature extraction completed\n",
      "(5987, 84)\n"
     ]
    },
    {
     "name": "stderr",
     "output_type": "stream",
     "text": [
      " 17%|█▋        | 16/93 [25:33<2:13:12, 103.80s/it]"
     ]
    },
    {
     "name": "stdout",
     "output_type": "stream",
     "text": [
      "Feature selection completed\n",
      "(5987, 3)\n"
     ]
    },
    {
     "name": "stderr",
     "output_type": "stream",
     "text": [
      "Rolling: 100%|██████████| 30/30 [00:11<00:00,  2.70it/s]\n"
     ]
    },
    {
     "name": "stdout",
     "output_type": "stream",
     "text": [
      "Feature extraction started\n",
      "Feature extraction completed\n",
      "(5987, 83)\n"
     ]
    },
    {
     "name": "stderr",
     "output_type": "stream",
     "text": [
      " 18%|█▊        | 17/93 [27:12<2:09:20, 102.12s/it]"
     ]
    },
    {
     "name": "stdout",
     "output_type": "stream",
     "text": [
      "Feature selection completed\n",
      "(5987, 3)\n"
     ]
    },
    {
     "name": "stderr",
     "output_type": "stream",
     "text": [
      "Rolling: 100%|██████████| 30/30 [00:11<00:00,  2.64it/s]\n"
     ]
    },
    {
     "name": "stdout",
     "output_type": "stream",
     "text": [
      "Feature extraction started\n",
      "Feature extraction completed\n",
      "(5987, 84)\n"
     ]
    },
    {
     "name": "stderr",
     "output_type": "stream",
     "text": [
      " 19%|█▉        | 18/93 [28:52<2:06:53, 101.52s/it]"
     ]
    },
    {
     "name": "stdout",
     "output_type": "stream",
     "text": [
      "Feature selection completed\n",
      "(5987, 4)\n"
     ]
    },
    {
     "name": "stderr",
     "output_type": "stream",
     "text": [
      "Rolling: 100%|██████████| 30/30 [00:11<00:00,  2.57it/s]\n"
     ]
    },
    {
     "name": "stdout",
     "output_type": "stream",
     "text": [
      "Feature extraction started\n",
      "Feature extraction completed\n",
      "(5987, 83)\n"
     ]
    },
    {
     "name": "stderr",
     "output_type": "stream",
     "text": [
      " 20%|██        | 19/93 [30:29<2:03:37, 100.23s/it]"
     ]
    },
    {
     "name": "stdout",
     "output_type": "stream",
     "text": [
      "Feature selection completed\n",
      "(5987, 3)\n"
     ]
    },
    {
     "name": "stderr",
     "output_type": "stream",
     "text": [
      "Rolling: 100%|██████████| 30/30 [00:12<00:00,  2.32it/s]\n"
     ]
    },
    {
     "name": "stdout",
     "output_type": "stream",
     "text": [
      "Feature extraction started\n",
      "Feature extraction completed\n",
      "(5987, 83)\n"
     ]
    },
    {
     "name": "stderr",
     "output_type": "stream",
     "text": [
      " 22%|██▏       | 20/93 [32:16<2:04:25, 102.27s/it]"
     ]
    },
    {
     "name": "stdout",
     "output_type": "stream",
     "text": [
      "Feature selection completed\n",
      "(5987, 2)\n"
     ]
    },
    {
     "name": "stderr",
     "output_type": "stream",
     "text": [
      "Rolling: 100%|██████████| 30/30 [00:13<00:00,  2.29it/s]\n"
     ]
    },
    {
     "name": "stdout",
     "output_type": "stream",
     "text": [
      "Feature extraction started\n",
      "Feature extraction completed\n",
      "(5987, 84)\n"
     ]
    },
    {
     "name": "stderr",
     "output_type": "stream",
     "text": [
      " 23%|██▎       | 21/93 [34:12<2:07:50, 106.53s/it]"
     ]
    },
    {
     "name": "stdout",
     "output_type": "stream",
     "text": [
      "Feature selection completed\n",
      "(5987, 4)\n"
     ]
    },
    {
     "name": "stderr",
     "output_type": "stream",
     "text": [
      "Rolling: 100%|██████████| 30/30 [00:13<00:00,  2.24it/s]\n"
     ]
    },
    {
     "name": "stdout",
     "output_type": "stream",
     "text": [
      "Feature extraction started\n",
      "Feature extraction completed\n",
      "(5987, 84)\n"
     ]
    },
    {
     "name": "stderr",
     "output_type": "stream",
     "text": [
      " 24%|██▎       | 22/93 [36:11<2:10:15, 110.08s/it]"
     ]
    },
    {
     "name": "stdout",
     "output_type": "stream",
     "text": [
      "Feature selection completed\n",
      "(5987, 5)\n"
     ]
    },
    {
     "name": "stderr",
     "output_type": "stream",
     "text": [
      "Rolling: 100%|██████████| 30/30 [00:13<00:00,  2.15it/s]\n"
     ]
    },
    {
     "name": "stdout",
     "output_type": "stream",
     "text": [
      "Feature extraction started\n",
      "Feature extraction completed\n",
      "(5987, 84)\n"
     ]
    },
    {
     "name": "stderr",
     "output_type": "stream",
     "text": [
      " 25%|██▍       | 23/93 [38:09<2:11:25, 112.65s/it]"
     ]
    },
    {
     "name": "stdout",
     "output_type": "stream",
     "text": [
      "Feature selection completed\n",
      "(5987, 4)\n"
     ]
    },
    {
     "name": "stderr",
     "output_type": "stream",
     "text": [
      "Rolling: 100%|██████████| 30/30 [00:13<00:00,  2.15it/s]\n"
     ]
    },
    {
     "name": "stdout",
     "output_type": "stream",
     "text": [
      "Feature extraction started\n",
      "Feature extraction completed\n",
      "(5987, 82)\n"
     ]
    },
    {
     "name": "stderr",
     "output_type": "stream",
     "text": [
      " 26%|██▌       | 24/93 [40:16<2:14:22, 116.85s/it]"
     ]
    },
    {
     "name": "stdout",
     "output_type": "stream",
     "text": [
      "Feature selection completed\n",
      "(5987, 4)\n"
     ]
    },
    {
     "name": "stderr",
     "output_type": "stream",
     "text": [
      "Rolling: 100%|██████████| 30/30 [00:13<00:00,  2.21it/s]\n"
     ]
    },
    {
     "name": "stdout",
     "output_type": "stream",
     "text": [
      "Feature extraction started\n",
      "Feature extraction completed\n",
      "(5987, 80)\n"
     ]
    },
    {
     "name": "stderr",
     "output_type": "stream",
     "text": [
      " 27%|██▋       | 25/93 [42:16<2:13:33, 117.85s/it]"
     ]
    },
    {
     "name": "stdout",
     "output_type": "stream",
     "text": [
      "Feature selection completed\n",
      "(5987, 2)\n"
     ]
    },
    {
     "name": "stderr",
     "output_type": "stream",
     "text": [
      "Rolling: 100%|██████████| 30/30 [00:13<00:00,  2.17it/s]\n"
     ]
    },
    {
     "name": "stdout",
     "output_type": "stream",
     "text": [
      "Feature extraction started\n",
      "Feature extraction completed\n",
      "(5987, 85)\n"
     ]
    },
    {
     "name": "stderr",
     "output_type": "stream",
     "text": [
      " 28%|██▊       | 26/93 [44:15<2:11:54, 118.12s/it]"
     ]
    },
    {
     "name": "stdout",
     "output_type": "stream",
     "text": [
      "Feature selection completed\n",
      "(5987, 3)\n"
     ]
    },
    {
     "name": "stderr",
     "output_type": "stream",
     "text": [
      "Rolling: 100%|██████████| 30/30 [00:13<00:00,  2.17it/s]\n"
     ]
    },
    {
     "name": "stdout",
     "output_type": "stream",
     "text": [
      "Feature extraction started\n",
      "Feature extraction completed\n",
      "(5987, 85)\n"
     ]
    },
    {
     "name": "stderr",
     "output_type": "stream",
     "text": [
      " 29%|██▉       | 27/93 [46:14<2:10:12, 118.37s/it]"
     ]
    },
    {
     "name": "stdout",
     "output_type": "stream",
     "text": [
      "Feature selection completed\n",
      "(5987, 3)\n"
     ]
    },
    {
     "name": "stderr",
     "output_type": "stream",
     "text": [
      "Rolling: 100%|██████████| 30/30 [00:13<00:00,  2.17it/s]\n"
     ]
    },
    {
     "name": "stdout",
     "output_type": "stream",
     "text": [
      "Feature extraction started\n",
      "Feature extraction completed\n",
      "(5987, 82)\n"
     ]
    },
    {
     "name": "stderr",
     "output_type": "stream",
     "text": [
      " 30%|███       | 28/93 [48:12<2:08:14, 118.37s/it]"
     ]
    },
    {
     "name": "stdout",
     "output_type": "stream",
     "text": [
      "Feature selection completed\n",
      "(5987, 2)\n"
     ]
    },
    {
     "name": "stderr",
     "output_type": "stream",
     "text": [
      "Rolling: 100%|██████████| 30/30 [00:13<00:00,  2.22it/s]\n"
     ]
    },
    {
     "name": "stdout",
     "output_type": "stream",
     "text": [
      "Feature extraction started\n",
      "Feature extraction completed\n",
      "(5987, 82)\n"
     ]
    },
    {
     "name": "stderr",
     "output_type": "stream",
     "text": [
      " 31%|███       | 29/93 [50:10<2:06:02, 118.16s/it]"
     ]
    },
    {
     "name": "stdout",
     "output_type": "stream",
     "text": [
      "Feature selection completed\n",
      "(5987, 4)\n"
     ]
    },
    {
     "name": "stderr",
     "output_type": "stream",
     "text": [
      "Rolling: 100%|██████████| 30/30 [00:13<00:00,  2.17it/s]\n"
     ]
    },
    {
     "name": "stdout",
     "output_type": "stream",
     "text": [
      "Feature extraction started\n",
      "Feature extraction completed\n",
      "(5987, 81)\n"
     ]
    },
    {
     "name": "stderr",
     "output_type": "stream",
     "text": [
      " 32%|███▏      | 30/93 [52:12<2:05:16, 119.30s/it]"
     ]
    },
    {
     "name": "stdout",
     "output_type": "stream",
     "text": [
      "Feature selection completed\n",
      "(5987, 2)\n"
     ]
    },
    {
     "name": "stderr",
     "output_type": "stream",
     "text": [
      "Rolling: 100%|██████████| 30/30 [00:14<00:00,  2.14it/s]\n"
     ]
    },
    {
     "name": "stdout",
     "output_type": "stream",
     "text": [
      "Feature extraction started\n",
      "Feature extraction completed\n",
      "(5987, 86)\n"
     ]
    },
    {
     "name": "stderr",
     "output_type": "stream",
     "text": [
      " 33%|███▎      | 31/93 [54:32<2:09:50, 125.65s/it]"
     ]
    },
    {
     "name": "stdout",
     "output_type": "stream",
     "text": [
      "Feature selection completed\n",
      "(5987, 3)\n"
     ]
    },
    {
     "name": "stderr",
     "output_type": "stream",
     "text": [
      "Rolling: 100%|██████████| 30/30 [00:12<00:00,  2.40it/s]\n"
     ]
    },
    {
     "name": "stdout",
     "output_type": "stream",
     "text": [
      "Feature extraction started\n",
      "Feature extraction completed\n",
      "(5987, 83)\n"
     ]
    },
    {
     "name": "stderr",
     "output_type": "stream",
     "text": [
      " 34%|███▍      | 32/93 [56:28<2:04:38, 122.60s/it]"
     ]
    },
    {
     "name": "stdout",
     "output_type": "stream",
     "text": [
      "Feature selection completed\n",
      "(5987, 2)\n"
     ]
    },
    {
     "name": "stderr",
     "output_type": "stream",
     "text": [
      "Rolling: 100%|██████████| 30/30 [00:12<00:00,  2.45it/s]\n"
     ]
    },
    {
     "name": "stdout",
     "output_type": "stream",
     "text": [
      "Feature extraction started\n",
      "Feature extraction completed\n",
      "(5987, 83)\n"
     ]
    },
    {
     "name": "stderr",
     "output_type": "stream",
     "text": [
      " 35%|███▌      | 33/93 [58:18<1:58:51, 118.86s/it]"
     ]
    },
    {
     "name": "stdout",
     "output_type": "stream",
     "text": [
      "Feature selection completed\n",
      "(5987, 3)\n"
     ]
    },
    {
     "name": "stderr",
     "output_type": "stream",
     "text": [
      "Rolling: 100%|██████████| 30/30 [00:13<00:00,  2.23it/s]\n"
     ]
    },
    {
     "name": "stdout",
     "output_type": "stream",
     "text": [
      "Feature extraction started\n",
      "Feature extraction completed\n",
      "(5987, 85)\n"
     ]
    },
    {
     "name": "stderr",
     "output_type": "stream",
     "text": [
      " 37%|███▋      | 34/93 [1:00:11<1:55:14, 117.20s/it]"
     ]
    },
    {
     "name": "stdout",
     "output_type": "stream",
     "text": [
      "Feature selection completed\n",
      "(5987, 4)\n"
     ]
    },
    {
     "name": "stderr",
     "output_type": "stream",
     "text": [
      "Rolling: 100%|██████████| 30/30 [00:13<00:00,  2.24it/s]\n"
     ]
    },
    {
     "name": "stdout",
     "output_type": "stream",
     "text": [
      "Feature extraction started\n",
      "Feature extraction completed\n",
      "(5987, 82)\n"
     ]
    },
    {
     "name": "stderr",
     "output_type": "stream",
     "text": [
      " 38%|███▊      | 35/93 [1:01:58<1:50:05, 113.88s/it]"
     ]
    },
    {
     "name": "stdout",
     "output_type": "stream",
     "text": [
      "Feature selection completed\n",
      "(5987, 3)\n"
     ]
    },
    {
     "name": "stderr",
     "output_type": "stream",
     "text": [
      "Rolling: 100%|██████████| 30/30 [00:11<00:00,  2.55it/s]\n"
     ]
    },
    {
     "name": "stdout",
     "output_type": "stream",
     "text": [
      "Feature extraction started\n",
      "Feature extraction completed\n",
      "(5987, 85)\n"
     ]
    },
    {
     "name": "stderr",
     "output_type": "stream",
     "text": [
      " 39%|███▊      | 36/93 [1:03:50<1:47:52, 113.55s/it]"
     ]
    },
    {
     "name": "stdout",
     "output_type": "stream",
     "text": [
      "Feature selection completed\n",
      "(5987, 4)\n"
     ]
    },
    {
     "name": "stderr",
     "output_type": "stream",
     "text": [
      "Rolling: 100%|██████████| 30/30 [00:11<00:00,  2.67it/s]\n"
     ]
    },
    {
     "name": "stdout",
     "output_type": "stream",
     "text": [
      "Feature extraction started\n",
      "Feature extraction completed\n",
      "(5987, 88)\n"
     ]
    },
    {
     "name": "stderr",
     "output_type": "stream",
     "text": [
      " 40%|███▉      | 37/93 [1:05:37<1:44:07, 111.56s/it]"
     ]
    },
    {
     "name": "stdout",
     "output_type": "stream",
     "text": [
      "Feature selection completed\n",
      "(5987, 4)\n"
     ]
    },
    {
     "name": "stderr",
     "output_type": "stream",
     "text": [
      "Rolling: 100%|██████████| 30/30 [00:12<00:00,  2.31it/s]\n"
     ]
    },
    {
     "name": "stdout",
     "output_type": "stream",
     "text": [
      "Feature extraction started\n",
      "Feature extraction completed\n",
      "(5987, 87)\n"
     ]
    },
    {
     "name": "stderr",
     "output_type": "stream",
     "text": [
      " 41%|████      | 38/93 [1:07:25<1:41:14, 110.44s/it]"
     ]
    },
    {
     "name": "stdout",
     "output_type": "stream",
     "text": [
      "Feature selection completed\n",
      "(5987, 4)\n"
     ]
    },
    {
     "name": "stderr",
     "output_type": "stream",
     "text": [
      "Rolling: 100%|██████████| 30/30 [00:11<00:00,  2.62it/s]\n"
     ]
    },
    {
     "name": "stdout",
     "output_type": "stream",
     "text": [
      "Feature extraction started\n",
      "Feature extraction completed\n",
      "(5987, 84)\n"
     ]
    },
    {
     "name": "stderr",
     "output_type": "stream",
     "text": [
      " 42%|████▏     | 39/93 [1:09:05<1:36:41, 107.44s/it]"
     ]
    },
    {
     "name": "stdout",
     "output_type": "stream",
     "text": [
      "Feature selection completed\n",
      "(5987, 4)\n"
     ]
    },
    {
     "name": "stderr",
     "output_type": "stream",
     "text": [
      "Rolling: 100%|██████████| 30/30 [00:11<00:00,  2.68it/s]\n"
     ]
    },
    {
     "name": "stdout",
     "output_type": "stream",
     "text": [
      "Feature extraction started\n",
      "Feature extraction completed\n",
      "(5987, 84)\n"
     ]
    },
    {
     "name": "stderr",
     "output_type": "stream",
     "text": [
      " 43%|████▎     | 40/93 [1:10:45<1:32:48, 105.06s/it]"
     ]
    },
    {
     "name": "stdout",
     "output_type": "stream",
     "text": [
      "Feature selection completed\n",
      "(5987, 3)\n"
     ]
    },
    {
     "name": "stderr",
     "output_type": "stream",
     "text": [
      "Rolling: 100%|██████████| 30/30 [00:11<00:00,  2.57it/s]\n"
     ]
    },
    {
     "name": "stdout",
     "output_type": "stream",
     "text": [
      "Feature extraction started\n",
      "Feature extraction completed\n",
      "(5987, 85)\n"
     ]
    },
    {
     "name": "stderr",
     "output_type": "stream",
     "text": [
      " 44%|████▍     | 41/93 [1:12:26<1:29:57, 103.79s/it]"
     ]
    },
    {
     "name": "stdout",
     "output_type": "stream",
     "text": [
      "Feature selection completed\n",
      "(5987, 5)\n"
     ]
    },
    {
     "name": "stderr",
     "output_type": "stream",
     "text": [
      "Rolling: 100%|██████████| 30/30 [00:11<00:00,  2.56it/s]\n"
     ]
    },
    {
     "name": "stdout",
     "output_type": "stream",
     "text": [
      "Feature extraction started\n",
      "Feature extraction completed\n",
      "(5987, 88)\n"
     ]
    },
    {
     "name": "stderr",
     "output_type": "stream",
     "text": [
      " 45%|████▌     | 42/93 [1:14:07<1:27:40, 103.15s/it]"
     ]
    },
    {
     "name": "stdout",
     "output_type": "stream",
     "text": [
      "Feature selection completed\n",
      "(5987, 3)\n"
     ]
    },
    {
     "name": "stderr",
     "output_type": "stream",
     "text": [
      "Rolling: 100%|██████████| 30/30 [00:11<00:00,  2.59it/s]\n"
     ]
    },
    {
     "name": "stdout",
     "output_type": "stream",
     "text": [
      "Feature extraction started\n",
      "Feature extraction completed\n",
      "(5987, 85)\n"
     ]
    },
    {
     "name": "stderr",
     "output_type": "stream",
     "text": [
      " 46%|████▌     | 43/93 [1:15:52<1:26:11, 103.43s/it]"
     ]
    },
    {
     "name": "stdout",
     "output_type": "stream",
     "text": [
      "Feature selection completed\n",
      "(5987, 3)\n"
     ]
    },
    {
     "name": "stderr",
     "output_type": "stream",
     "text": [
      "Rolling: 100%|██████████| 30/30 [00:11<00:00,  2.62it/s]\n"
     ]
    },
    {
     "name": "stdout",
     "output_type": "stream",
     "text": [
      "Feature extraction started\n",
      "Feature extraction completed\n",
      "(5987, 86)\n"
     ]
    },
    {
     "name": "stderr",
     "output_type": "stream",
     "text": [
      " 47%|████▋     | 44/93 [1:17:31<1:23:30, 102.25s/it]"
     ]
    },
    {
     "name": "stdout",
     "output_type": "stream",
     "text": [
      "Feature selection completed\n",
      "(5987, 4)\n"
     ]
    },
    {
     "name": "stderr",
     "output_type": "stream",
     "text": [
      "Rolling: 100%|██████████| 30/30 [00:11<00:00,  2.66it/s]\n"
     ]
    },
    {
     "name": "stdout",
     "output_type": "stream",
     "text": [
      "Feature extraction started\n",
      "Feature extraction completed\n",
      "(5987, 86)\n"
     ]
    },
    {
     "name": "stderr",
     "output_type": "stream",
     "text": [
      " 48%|████▊     | 45/93 [1:19:11<1:21:17, 101.62s/it]"
     ]
    },
    {
     "name": "stdout",
     "output_type": "stream",
     "text": [
      "Feature selection completed\n",
      "(5987, 3)\n"
     ]
    },
    {
     "name": "stderr",
     "output_type": "stream",
     "text": [
      "Rolling: 100%|██████████| 30/30 [00:11<00:00,  2.59it/s]\n"
     ]
    },
    {
     "name": "stdout",
     "output_type": "stream",
     "text": [
      "Feature extraction started\n",
      "Feature extraction completed\n",
      "(5987, 85)\n"
     ]
    },
    {
     "name": "stderr",
     "output_type": "stream",
     "text": [
      " 49%|████▉     | 46/93 [1:20:53<1:19:43, 101.78s/it]"
     ]
    },
    {
     "name": "stdout",
     "output_type": "stream",
     "text": [
      "Feature selection completed\n",
      "(5987, 4)\n"
     ]
    },
    {
     "name": "stderr",
     "output_type": "stream",
     "text": [
      "Rolling: 100%|██████████| 30/30 [00:11<00:00,  2.57it/s]\n"
     ]
    },
    {
     "name": "stdout",
     "output_type": "stream",
     "text": [
      "Feature extraction started\n",
      "Feature extraction completed\n",
      "(5987, 83)\n"
     ]
    },
    {
     "name": "stderr",
     "output_type": "stream",
     "text": [
      " 51%|█████     | 47/93 [1:22:33<1:17:31, 101.12s/it]"
     ]
    },
    {
     "name": "stdout",
     "output_type": "stream",
     "text": [
      "Feature selection completed\n",
      "(5987, 3)\n"
     ]
    },
    {
     "name": "stderr",
     "output_type": "stream",
     "text": [
      "Rolling: 100%|██████████| 30/30 [00:13<00:00,  2.26it/s]\n"
     ]
    },
    {
     "name": "stdout",
     "output_type": "stream",
     "text": [
      "Feature extraction started\n",
      "Feature extraction completed\n",
      "(5987, 88)\n"
     ]
    },
    {
     "name": "stderr",
     "output_type": "stream",
     "text": [
      " 52%|█████▏    | 48/93 [1:24:18<1:16:43, 102.30s/it]"
     ]
    },
    {
     "name": "stdout",
     "output_type": "stream",
     "text": [
      "Feature selection completed\n",
      "(5987, 3)\n"
     ]
    },
    {
     "name": "stderr",
     "output_type": "stream",
     "text": [
      "Rolling: 100%|██████████| 30/30 [00:11<00:00,  2.57it/s]\n"
     ]
    },
    {
     "name": "stdout",
     "output_type": "stream",
     "text": [
      "Feature extraction started\n",
      "Feature extraction completed\n",
      "(5987, 87)\n"
     ]
    },
    {
     "name": "stderr",
     "output_type": "stream",
     "text": [
      " 53%|█████▎    | 49/93 [1:26:03<1:15:35, 103.09s/it]"
     ]
    },
    {
     "name": "stdout",
     "output_type": "stream",
     "text": [
      "Feature selection completed\n",
      "(5987, 3)\n"
     ]
    },
    {
     "name": "stderr",
     "output_type": "stream",
     "text": [
      "Rolling: 100%|██████████| 30/30 [00:12<00:00,  2.36it/s]\n"
     ]
    },
    {
     "name": "stdout",
     "output_type": "stream",
     "text": [
      "Feature extraction started\n",
      "Feature extraction completed\n",
      "(5987, 85)\n"
     ]
    },
    {
     "name": "stderr",
     "output_type": "stream",
     "text": [
      " 54%|█████▍    | 50/93 [1:27:54<1:15:35, 105.48s/it]"
     ]
    },
    {
     "name": "stdout",
     "output_type": "stream",
     "text": [
      "Feature selection completed\n",
      "(5987, 3)\n"
     ]
    },
    {
     "name": "stderr",
     "output_type": "stream",
     "text": [
      "Rolling: 100%|██████████| 30/30 [00:12<00:00,  2.44it/s]\n"
     ]
    },
    {
     "name": "stdout",
     "output_type": "stream",
     "text": [
      "Feature extraction started\n",
      "Feature extraction completed\n",
      "(5987, 83)\n"
     ]
    },
    {
     "name": "stderr",
     "output_type": "stream",
     "text": [
      " 55%|█████▍    | 51/93 [1:29:41<1:14:10, 105.97s/it]"
     ]
    },
    {
     "name": "stdout",
     "output_type": "stream",
     "text": [
      "Feature selection completed\n",
      "(5987, 2)\n"
     ]
    },
    {
     "name": "stderr",
     "output_type": "stream",
     "text": [
      "Rolling: 100%|██████████| 30/30 [00:12<00:00,  2.36it/s]\n"
     ]
    },
    {
     "name": "stdout",
     "output_type": "stream",
     "text": [
      "Feature extraction started\n",
      "Feature extraction completed\n",
      "(5987, 86)\n"
     ]
    },
    {
     "name": "stderr",
     "output_type": "stream",
     "text": [
      " 56%|█████▌    | 52/93 [1:31:29<1:12:54, 106.69s/it]"
     ]
    },
    {
     "name": "stdout",
     "output_type": "stream",
     "text": [
      "Feature selection completed\n",
      "(5987, 5)\n"
     ]
    },
    {
     "name": "stderr",
     "output_type": "stream",
     "text": [
      "Rolling: 100%|██████████| 30/30 [00:12<00:00,  2.43it/s]\n"
     ]
    },
    {
     "name": "stdout",
     "output_type": "stream",
     "text": [
      "Feature extraction started\n",
      "Feature extraction completed\n",
      "(5987, 85)\n"
     ]
    },
    {
     "name": "stderr",
     "output_type": "stream",
     "text": [
      " 57%|█████▋    | 53/93 [1:33:19<1:11:44, 107.62s/it]"
     ]
    },
    {
     "name": "stdout",
     "output_type": "stream",
     "text": [
      "Feature selection completed\n",
      "(5987, 4)\n"
     ]
    },
    {
     "name": "stderr",
     "output_type": "stream",
     "text": [
      "Rolling: 100%|██████████| 30/30 [00:12<00:00,  2.34it/s]\n"
     ]
    },
    {
     "name": "stdout",
     "output_type": "stream",
     "text": [
      "Feature extraction started\n",
      "Feature extraction completed\n",
      "(5987, 87)\n"
     ]
    },
    {
     "name": "stderr",
     "output_type": "stream",
     "text": [
      " 58%|█████▊    | 54/93 [1:35:05<1:09:38, 107.14s/it]"
     ]
    },
    {
     "name": "stdout",
     "output_type": "stream",
     "text": [
      "Feature selection completed\n",
      "(5987, 4)\n"
     ]
    },
    {
     "name": "stderr",
     "output_type": "stream",
     "text": [
      "Rolling: 100%|██████████| 30/30 [00:12<00:00,  2.49it/s]\n"
     ]
    },
    {
     "name": "stdout",
     "output_type": "stream",
     "text": [
      "Feature extraction started\n",
      "Feature extraction completed\n",
      "(5987, 87)\n"
     ]
    },
    {
     "name": "stderr",
     "output_type": "stream",
     "text": [
      " 59%|█████▉    | 55/93 [1:36:50<1:07:25, 106.45s/it]"
     ]
    },
    {
     "name": "stdout",
     "output_type": "stream",
     "text": [
      "Feature selection completed\n",
      "(5987, 4)\n"
     ]
    },
    {
     "name": "stderr",
     "output_type": "stream",
     "text": [
      "Rolling: 100%|██████████| 30/30 [00:11<00:00,  2.56it/s]\n"
     ]
    },
    {
     "name": "stdout",
     "output_type": "stream",
     "text": [
      "Feature extraction started\n",
      "Feature extraction completed\n",
      "(5987, 85)\n"
     ]
    },
    {
     "name": "stderr",
     "output_type": "stream",
     "text": [
      " 60%|██████    | 56/93 [1:38:36<1:05:30, 106.22s/it]"
     ]
    },
    {
     "name": "stdout",
     "output_type": "stream",
     "text": [
      "Feature selection completed\n",
      "(5987, 3)\n"
     ]
    },
    {
     "name": "stderr",
     "output_type": "stream",
     "text": [
      "Rolling: 100%|██████████| 30/30 [00:11<00:00,  2.53it/s]\n"
     ]
    },
    {
     "name": "stdout",
     "output_type": "stream",
     "text": [
      "Feature extraction started\n",
      "Feature extraction completed\n",
      "(5987, 87)\n"
     ]
    },
    {
     "name": "stderr",
     "output_type": "stream",
     "text": [
      " 61%|██████▏   | 57/93 [1:40:21<1:03:30, 105.86s/it]"
     ]
    },
    {
     "name": "stdout",
     "output_type": "stream",
     "text": [
      "Feature selection completed\n",
      "(5987, 4)\n"
     ]
    },
    {
     "name": "stderr",
     "output_type": "stream",
     "text": [
      "Rolling: 100%|██████████| 30/30 [00:11<00:00,  2.54it/s]\n"
     ]
    },
    {
     "name": "stdout",
     "output_type": "stream",
     "text": [
      "Feature extraction started\n",
      "Feature extraction completed\n",
      "(5987, 88)\n"
     ]
    },
    {
     "name": "stderr",
     "output_type": "stream",
     "text": [
      " 62%|██████▏   | 58/93 [1:42:02<1:00:56, 104.48s/it]"
     ]
    },
    {
     "name": "stdout",
     "output_type": "stream",
     "text": [
      "Feature selection completed\n",
      "(5987, 3)\n"
     ]
    },
    {
     "name": "stderr",
     "output_type": "stream",
     "text": [
      "Rolling: 100%|██████████| 30/30 [00:11<00:00,  2.60it/s]\n"
     ]
    },
    {
     "name": "stdout",
     "output_type": "stream",
     "text": [
      "Feature extraction started\n",
      "Feature extraction completed\n",
      "(5987, 87)\n"
     ]
    },
    {
     "name": "stderr",
     "output_type": "stream",
     "text": [
      " 63%|██████▎   | 59/93 [1:43:43<58:36, 103.43s/it]  "
     ]
    },
    {
     "name": "stdout",
     "output_type": "stream",
     "text": [
      "Feature selection completed\n",
      "(5987, 4)\n"
     ]
    },
    {
     "name": "stderr",
     "output_type": "stream",
     "text": [
      "Rolling: 100%|██████████| 30/30 [00:11<00:00,  2.50it/s]\n"
     ]
    },
    {
     "name": "stdout",
     "output_type": "stream",
     "text": [
      "Feature extraction started\n",
      "Feature extraction completed\n",
      "(5987, 87)\n"
     ]
    },
    {
     "name": "stderr",
     "output_type": "stream",
     "text": [
      " 65%|██████▍   | 60/93 [1:45:24<56:31, 102.78s/it]"
     ]
    },
    {
     "name": "stdout",
     "output_type": "stream",
     "text": [
      "Feature selection completed\n",
      "(5987, 2)\n"
     ]
    },
    {
     "name": "stderr",
     "output_type": "stream",
     "text": [
      "Rolling: 100%|██████████| 30/30 [00:11<00:00,  2.57it/s]\n"
     ]
    },
    {
     "name": "stdout",
     "output_type": "stream",
     "text": [
      "Feature extraction started\n",
      "Feature extraction completed\n",
      "(5987, 87)\n"
     ]
    },
    {
     "name": "stderr",
     "output_type": "stream",
     "text": [
      " 66%|██████▌   | 61/93 [1:47:06<54:36, 102.40s/it]"
     ]
    },
    {
     "name": "stdout",
     "output_type": "stream",
     "text": [
      "Feature selection completed\n",
      "(5987, 5)\n"
     ]
    },
    {
     "name": "stderr",
     "output_type": "stream",
     "text": [
      "Rolling: 100%|██████████| 30/30 [00:12<00:00,  2.40it/s]\n"
     ]
    },
    {
     "name": "stdout",
     "output_type": "stream",
     "text": [
      "Feature extraction started\n",
      "Feature extraction completed\n",
      "(5987, 86)\n"
     ]
    },
    {
     "name": "stderr",
     "output_type": "stream",
     "text": [
      " 67%|██████▋   | 62/93 [1:48:50<53:07, 102.82s/it]"
     ]
    },
    {
     "name": "stdout",
     "output_type": "stream",
     "text": [
      "Feature selection completed\n",
      "(5987, 4)\n"
     ]
    },
    {
     "name": "stderr",
     "output_type": "stream",
     "text": [
      "Rolling: 100%|██████████| 30/30 [00:11<00:00,  2.50it/s]\n"
     ]
    },
    {
     "name": "stdout",
     "output_type": "stream",
     "text": [
      "Feature extraction started\n",
      "Feature extraction completed\n",
      "(5987, 87)\n"
     ]
    },
    {
     "name": "stderr",
     "output_type": "stream",
     "text": [
      " 68%|██████▊   | 63/93 [1:50:29<50:54, 101.83s/it]"
     ]
    },
    {
     "name": "stdout",
     "output_type": "stream",
     "text": [
      "Feature selection completed\n",
      "(5987, 4)\n"
     ]
    },
    {
     "name": "stderr",
     "output_type": "stream",
     "text": [
      "Rolling: 100%|██████████| 30/30 [00:11<00:00,  2.59it/s]\n"
     ]
    },
    {
     "name": "stdout",
     "output_type": "stream",
     "text": [
      "Feature extraction started\n",
      "Feature extraction completed\n",
      "(5987, 87)\n"
     ]
    },
    {
     "name": "stderr",
     "output_type": "stream",
     "text": [
      " 69%|██████▉   | 64/93 [1:52:16<49:54, 103.26s/it]"
     ]
    },
    {
     "name": "stdout",
     "output_type": "stream",
     "text": [
      "Feature selection completed\n",
      "(5987, 4)\n"
     ]
    },
    {
     "name": "stderr",
     "output_type": "stream",
     "text": [
      "Rolling: 100%|██████████| 30/30 [00:11<00:00,  2.54it/s]\n"
     ]
    },
    {
     "name": "stdout",
     "output_type": "stream",
     "text": [
      "Feature extraction started\n",
      "Feature extraction completed\n",
      "(5987, 86)\n"
     ]
    },
    {
     "name": "stderr",
     "output_type": "stream",
     "text": [
      " 70%|██████▉   | 65/93 [1:54:04<48:54, 104.80s/it]"
     ]
    },
    {
     "name": "stdout",
     "output_type": "stream",
     "text": [
      "Feature selection completed\n",
      "(5987, 3)\n"
     ]
    },
    {
     "name": "stderr",
     "output_type": "stream",
     "text": [
      "Rolling: 100%|██████████| 30/30 [00:11<00:00,  2.57it/s]\n"
     ]
    },
    {
     "name": "stdout",
     "output_type": "stream",
     "text": [
      "Feature extraction started\n",
      "Feature extraction completed\n",
      "(5987, 88)\n"
     ]
    },
    {
     "name": "stderr",
     "output_type": "stream",
     "text": [
      " 71%|███████   | 66/93 [1:55:46<46:43, 103.85s/it]"
     ]
    },
    {
     "name": "stdout",
     "output_type": "stream",
     "text": [
      "Feature selection completed\n",
      "(5987, 3)\n"
     ]
    },
    {
     "name": "stderr",
     "output_type": "stream",
     "text": [
      "Rolling: 100%|██████████| 30/30 [00:11<00:00,  2.58it/s]\n"
     ]
    },
    {
     "name": "stdout",
     "output_type": "stream",
     "text": [
      "Feature extraction started\n",
      "Feature extraction completed\n",
      "(5987, 85)\n"
     ]
    },
    {
     "name": "stderr",
     "output_type": "stream",
     "text": [
      " 72%|███████▏  | 67/93 [1:57:26<44:33, 102.85s/it]"
     ]
    },
    {
     "name": "stdout",
     "output_type": "stream",
     "text": [
      "Feature selection completed\n",
      "(5987, 3)\n"
     ]
    },
    {
     "name": "stderr",
     "output_type": "stream",
     "text": [
      "Rolling: 100%|██████████| 30/30 [00:11<00:00,  2.66it/s]\n"
     ]
    },
    {
     "name": "stdout",
     "output_type": "stream",
     "text": [
      "Feature extraction started\n",
      "Feature extraction completed\n",
      "(5987, 86)\n"
     ]
    },
    {
     "name": "stderr",
     "output_type": "stream",
     "text": [
      " 73%|███████▎  | 68/93 [1:59:08<42:43, 102.54s/it]"
     ]
    },
    {
     "name": "stdout",
     "output_type": "stream",
     "text": [
      "Feature selection completed\n",
      "(5987, 3)\n"
     ]
    },
    {
     "name": "stderr",
     "output_type": "stream",
     "text": [
      "Rolling: 100%|██████████| 30/30 [00:11<00:00,  2.68it/s]\n"
     ]
    },
    {
     "name": "stdout",
     "output_type": "stream",
     "text": [
      "Feature extraction started\n",
      "Feature extraction completed\n",
      "(5987, 87)\n"
     ]
    },
    {
     "name": "stderr",
     "output_type": "stream",
     "text": [
      " 74%|███████▍  | 69/93 [2:00:45<40:22, 100.93s/it]"
     ]
    },
    {
     "name": "stdout",
     "output_type": "stream",
     "text": [
      "Feature selection completed\n",
      "(5987, 3)\n"
     ]
    },
    {
     "name": "stderr",
     "output_type": "stream",
     "text": [
      "Rolling: 100%|██████████| 30/30 [00:11<00:00,  2.63it/s]\n"
     ]
    },
    {
     "name": "stdout",
     "output_type": "stream",
     "text": [
      "Feature extraction started\n",
      "Feature extraction completed\n",
      "(5987, 86)\n"
     ]
    },
    {
     "name": "stderr",
     "output_type": "stream",
     "text": [
      " 75%|███████▌  | 70/93 [2:02:21<38:07, 99.46s/it] "
     ]
    },
    {
     "name": "stdout",
     "output_type": "stream",
     "text": [
      "Feature selection completed\n",
      "(5987, 2)\n"
     ]
    },
    {
     "name": "stderr",
     "output_type": "stream",
     "text": [
      "Rolling: 100%|██████████| 30/30 [00:10<00:00,  2.74it/s]\n"
     ]
    },
    {
     "name": "stdout",
     "output_type": "stream",
     "text": [
      "Feature extraction started\n",
      "Feature extraction completed\n",
      "(5987, 86)\n"
     ]
    },
    {
     "name": "stderr",
     "output_type": "stream",
     "text": [
      " 76%|███████▋  | 71/93 [2:04:01<36:32, 99.68s/it]"
     ]
    },
    {
     "name": "stdout",
     "output_type": "stream",
     "text": [
      "Feature selection completed\n",
      "(5987, 2)\n"
     ]
    },
    {
     "name": "stderr",
     "output_type": "stream",
     "text": [
      "Rolling: 100%|██████████| 30/30 [00:13<00:00,  2.25it/s]\n"
     ]
    },
    {
     "name": "stdout",
     "output_type": "stream",
     "text": [
      "Feature extraction started\n",
      "Feature extraction completed\n",
      "(5987, 85)\n"
     ]
    },
    {
     "name": "stderr",
     "output_type": "stream",
     "text": [
      " 77%|███████▋  | 72/93 [2:05:58<36:37, 104.64s/it]"
     ]
    },
    {
     "name": "stdout",
     "output_type": "stream",
     "text": [
      "Feature selection completed\n",
      "(5987, 3)\n"
     ]
    },
    {
     "name": "stderr",
     "output_type": "stream",
     "text": [
      "Rolling: 100%|██████████| 30/30 [00:12<00:00,  2.36it/s]\n"
     ]
    },
    {
     "name": "stdout",
     "output_type": "stream",
     "text": [
      "Feature extraction started\n",
      "Feature extraction completed\n",
      "(5987, 87)\n"
     ]
    },
    {
     "name": "stderr",
     "output_type": "stream",
     "text": [
      " 78%|███████▊  | 73/93 [2:07:53<35:58, 107.92s/it]"
     ]
    },
    {
     "name": "stdout",
     "output_type": "stream",
     "text": [
      "Feature selection completed\n",
      "(5987, 5)\n"
     ]
    },
    {
     "name": "stderr",
     "output_type": "stream",
     "text": [
      "Rolling: 100%|██████████| 30/30 [00:13<00:00,  2.26it/s]\n"
     ]
    },
    {
     "name": "stdout",
     "output_type": "stream",
     "text": [
      "Feature extraction started\n",
      "Feature extraction completed\n",
      "(5987, 83)\n"
     ]
    },
    {
     "name": "stderr",
     "output_type": "stream",
     "text": [
      " 80%|███████▉  | 74/93 [2:09:52<35:12, 111.19s/it]"
     ]
    },
    {
     "name": "stdout",
     "output_type": "stream",
     "text": [
      "Feature selection completed\n",
      "(5987, 2)\n"
     ]
    },
    {
     "name": "stderr",
     "output_type": "stream",
     "text": [
      "Rolling: 100%|██████████| 30/30 [00:14<00:00,  2.06it/s]\n"
     ]
    },
    {
     "name": "stdout",
     "output_type": "stream",
     "text": [
      "Feature extraction started\n",
      "Feature extraction completed\n",
      "(5987, 86)\n"
     ]
    },
    {
     "name": "stderr",
     "output_type": "stream",
     "text": [
      " 81%|████████  | 75/93 [2:11:55<34:22, 114.57s/it]"
     ]
    },
    {
     "name": "stdout",
     "output_type": "stream",
     "text": [
      "Feature selection completed\n",
      "(5987, 2)\n"
     ]
    },
    {
     "name": "stderr",
     "output_type": "stream",
     "text": [
      "Rolling: 100%|██████████| 30/30 [00:13<00:00,  2.16it/s]\n"
     ]
    },
    {
     "name": "stdout",
     "output_type": "stream",
     "text": [
      "Feature extraction started\n",
      "Feature extraction completed\n",
      "(5987, 85)\n"
     ]
    },
    {
     "name": "stderr",
     "output_type": "stream",
     "text": [
      " 82%|████████▏ | 76/93 [2:13:56<33:02, 116.59s/it]"
     ]
    },
    {
     "name": "stdout",
     "output_type": "stream",
     "text": [
      "Feature selection completed\n",
      "(5987, 4)\n"
     ]
    },
    {
     "name": "stderr",
     "output_type": "stream",
     "text": [
      "Rolling: 100%|██████████| 30/30 [00:14<00:00,  2.06it/s]\n"
     ]
    },
    {
     "name": "stdout",
     "output_type": "stream",
     "text": [
      "Feature extraction started\n",
      "Feature extraction completed\n",
      "(5987, 87)\n"
     ]
    },
    {
     "name": "stderr",
     "output_type": "stream",
     "text": [
      " 83%|████████▎ | 77/93 [2:16:04<32:00, 120.04s/it]"
     ]
    },
    {
     "name": "stdout",
     "output_type": "stream",
     "text": [
      "Feature selection completed\n",
      "(5987, 2)\n"
     ]
    },
    {
     "name": "stderr",
     "output_type": "stream",
     "text": [
      "Rolling: 100%|██████████| 30/30 [00:14<00:00,  2.13it/s]\n"
     ]
    },
    {
     "name": "stdout",
     "output_type": "stream",
     "text": [
      "Feature extraction started\n",
      "Feature extraction completed\n",
      "(5987, 86)\n"
     ]
    },
    {
     "name": "stderr",
     "output_type": "stream",
     "text": [
      " 84%|████████▍ | 78/93 [2:18:08<30:17, 121.16s/it]"
     ]
    },
    {
     "name": "stdout",
     "output_type": "stream",
     "text": [
      "Feature selection completed\n",
      "(5987, 4)\n"
     ]
    },
    {
     "name": "stderr",
     "output_type": "stream",
     "text": [
      "Rolling: 100%|██████████| 30/30 [00:12<00:00,  2.35it/s]\n"
     ]
    },
    {
     "name": "stdout",
     "output_type": "stream",
     "text": [
      "Feature extraction started\n",
      "Feature extraction completed\n",
      "(5987, 88)\n"
     ]
    },
    {
     "name": "stderr",
     "output_type": "stream",
     "text": [
      " 85%|████████▍ | 79/93 [2:20:05<28:00, 120.01s/it]"
     ]
    },
    {
     "name": "stdout",
     "output_type": "stream",
     "text": [
      "Feature selection completed\n",
      "(5987, 4)\n"
     ]
    },
    {
     "name": "stderr",
     "output_type": "stream",
     "text": [
      "Rolling: 100%|██████████| 30/30 [00:14<00:00,  2.10it/s]\n"
     ]
    },
    {
     "name": "stdout",
     "output_type": "stream",
     "text": [
      "Feature extraction started\n",
      "Feature extraction completed\n",
      "(5987, 88)\n"
     ]
    },
    {
     "name": "stderr",
     "output_type": "stream",
     "text": [
      " 86%|████████▌ | 80/93 [2:22:10<26:18, 121.45s/it]"
     ]
    },
    {
     "name": "stdout",
     "output_type": "stream",
     "text": [
      "Feature selection completed\n",
      "(5987, 2)\n"
     ]
    },
    {
     "name": "stderr",
     "output_type": "stream",
     "text": [
      "Rolling: 100%|██████████| 30/30 [00:12<00:00,  2.39it/s]\n"
     ]
    },
    {
     "name": "stdout",
     "output_type": "stream",
     "text": [
      "Feature extraction started\n",
      "Feature extraction completed\n",
      "(5987, 84)\n"
     ]
    },
    {
     "name": "stderr",
     "output_type": "stream",
     "text": [
      " 87%|████████▋ | 81/93 [2:24:03<23:45, 118.83s/it]"
     ]
    },
    {
     "name": "stdout",
     "output_type": "stream",
     "text": [
      "Feature selection completed\n",
      "(5987, 2)\n"
     ]
    },
    {
     "name": "stderr",
     "output_type": "stream",
     "text": [
      "Rolling: 100%|██████████| 30/30 [00:11<00:00,  2.54it/s]\n"
     ]
    },
    {
     "name": "stdout",
     "output_type": "stream",
     "text": [
      "Feature extraction started\n",
      "Feature extraction completed\n",
      "(5987, 86)\n"
     ]
    },
    {
     "name": "stderr",
     "output_type": "stream",
     "text": [
      " 88%|████████▊ | 82/93 [2:25:50<21:10, 115.47s/it]"
     ]
    },
    {
     "name": "stdout",
     "output_type": "stream",
     "text": [
      "Feature selection completed\n",
      "(5987, 3)\n"
     ]
    },
    {
     "name": "stderr",
     "output_type": "stream",
     "text": [
      "Rolling: 100%|██████████| 30/30 [00:12<00:00,  2.43it/s]\n"
     ]
    },
    {
     "name": "stdout",
     "output_type": "stream",
     "text": [
      "Feature extraction started\n",
      "Feature extraction completed\n",
      "(5987, 84)\n"
     ]
    },
    {
     "name": "stderr",
     "output_type": "stream",
     "text": [
      " 89%|████████▉ | 83/93 [2:27:35<18:43, 112.35s/it]"
     ]
    },
    {
     "name": "stdout",
     "output_type": "stream",
     "text": [
      "Feature selection completed\n",
      "(5987, 5)\n"
     ]
    },
    {
     "name": "stderr",
     "output_type": "stream",
     "text": [
      "Rolling: 100%|██████████| 30/30 [00:12<00:00,  2.47it/s]\n"
     ]
    },
    {
     "name": "stdout",
     "output_type": "stream",
     "text": [
      "Feature extraction started\n",
      "Feature extraction completed\n",
      "(5987, 86)\n"
     ]
    },
    {
     "name": "stderr",
     "output_type": "stream",
     "text": [
      " 90%|█████████ | 84/93 [2:29:20<16:29, 110.00s/it]"
     ]
    },
    {
     "name": "stdout",
     "output_type": "stream",
     "text": [
      "Feature selection completed\n",
      "(5987, 3)\n"
     ]
    },
    {
     "name": "stderr",
     "output_type": "stream",
     "text": [
      "Rolling: 100%|██████████| 30/30 [00:12<00:00,  2.41it/s]\n"
     ]
    },
    {
     "name": "stdout",
     "output_type": "stream",
     "text": [
      "Feature extraction started\n",
      "Feature extraction completed\n",
      "(5987, 88)\n"
     ]
    },
    {
     "name": "stderr",
     "output_type": "stream",
     "text": [
      " 91%|█████████▏| 85/93 [2:31:05<14:28, 108.54s/it]"
     ]
    },
    {
     "name": "stdout",
     "output_type": "stream",
     "text": [
      "Feature selection completed\n",
      "(5987, 3)\n"
     ]
    },
    {
     "name": "stderr",
     "output_type": "stream",
     "text": [
      "Rolling: 100%|██████████| 30/30 [00:12<00:00,  2.50it/s]\n"
     ]
    },
    {
     "name": "stdout",
     "output_type": "stream",
     "text": [
      "Feature extraction started\n",
      "Feature extraction completed\n",
      "(5987, 85)\n"
     ]
    },
    {
     "name": "stderr",
     "output_type": "stream",
     "text": [
      " 92%|█████████▏| 86/93 [2:32:49<12:29, 107.11s/it]"
     ]
    },
    {
     "name": "stdout",
     "output_type": "stream",
     "text": [
      "Feature selection completed\n",
      "(5987, 4)\n"
     ]
    },
    {
     "name": "stderr",
     "output_type": "stream",
     "text": [
      "Rolling: 100%|██████████| 30/30 [00:12<00:00,  2.48it/s]\n"
     ]
    },
    {
     "name": "stdout",
     "output_type": "stream",
     "text": [
      "Feature extraction started\n",
      "Feature extraction completed\n",
      "(5987, 87)\n"
     ]
    },
    {
     "name": "stderr",
     "output_type": "stream",
     "text": [
      " 94%|█████████▎| 87/93 [2:34:32<10:36, 106.06s/it]"
     ]
    },
    {
     "name": "stdout",
     "output_type": "stream",
     "text": [
      "Feature selection completed\n",
      "(5987, 4)\n"
     ]
    },
    {
     "name": "stderr",
     "output_type": "stream",
     "text": [
      "Rolling: 100%|██████████| 30/30 [00:12<00:00,  2.39it/s]\n"
     ]
    },
    {
     "name": "stdout",
     "output_type": "stream",
     "text": [
      "Feature extraction started\n",
      "Feature extraction completed\n",
      "(5987, 86)\n"
     ]
    },
    {
     "name": "stderr",
     "output_type": "stream",
     "text": [
      " 95%|█████████▍| 88/93 [2:36:18<08:49, 105.88s/it]"
     ]
    },
    {
     "name": "stdout",
     "output_type": "stream",
     "text": [
      "Feature selection completed\n",
      "(5987, 4)\n"
     ]
    },
    {
     "name": "stderr",
     "output_type": "stream",
     "text": [
      "Rolling: 100%|██████████| 30/30 [00:12<00:00,  2.43it/s]\n"
     ]
    },
    {
     "name": "stdout",
     "output_type": "stream",
     "text": [
      "Feature extraction started\n",
      "Feature extraction completed\n",
      "(5987, 87)\n"
     ]
    },
    {
     "name": "stderr",
     "output_type": "stream",
     "text": [
      " 96%|█████████▌| 89/93 [2:38:02<07:01, 105.41s/it]"
     ]
    },
    {
     "name": "stdout",
     "output_type": "stream",
     "text": [
      "Feature selection completed\n",
      "(5987, 5)\n"
     ]
    },
    {
     "name": "stderr",
     "output_type": "stream",
     "text": [
      "Rolling: 100%|██████████| 30/30 [00:12<00:00,  2.47it/s]\n"
     ]
    },
    {
     "name": "stdout",
     "output_type": "stream",
     "text": [
      "Feature extraction started\n",
      "Feature extraction completed\n",
      "(5987, 82)\n"
     ]
    },
    {
     "name": "stderr",
     "output_type": "stream",
     "text": [
      " 97%|█████████▋| 90/93 [2:39:47<05:15, 105.30s/it]"
     ]
    },
    {
     "name": "stdout",
     "output_type": "stream",
     "text": [
      "Feature selection completed\n",
      "(5987, 3)\n"
     ]
    },
    {
     "name": "stderr",
     "output_type": "stream",
     "text": [
      "Rolling: 100%|██████████| 30/30 [00:12<00:00,  2.39it/s]\n"
     ]
    },
    {
     "name": "stdout",
     "output_type": "stream",
     "text": [
      "Feature extraction started\n",
      "Feature extraction completed\n",
      "(5987, 86)\n"
     ]
    },
    {
     "name": "stderr",
     "output_type": "stream",
     "text": [
      " 98%|█████████▊| 91/93 [2:41:36<03:33, 106.50s/it]"
     ]
    },
    {
     "name": "stdout",
     "output_type": "stream",
     "text": [
      "Feature selection completed\n",
      "(5987, 2)\n"
     ]
    },
    {
     "name": "stderr",
     "output_type": "stream",
     "text": [
      "Rolling: 100%|██████████| 30/30 [00:13<00:00,  2.20it/s]\n"
     ]
    },
    {
     "name": "stdout",
     "output_type": "stream",
     "text": [
      "Feature extraction started\n",
      "Feature extraction completed\n",
      "(5987, 88)\n"
     ]
    },
    {
     "name": "stderr",
     "output_type": "stream",
     "text": [
      " 99%|█████████▉| 92/93 [2:43:28<01:47, 107.90s/it]"
     ]
    },
    {
     "name": "stdout",
     "output_type": "stream",
     "text": [
      "Feature selection completed\n",
      "(5987, 3)\n"
     ]
    },
    {
     "name": "stderr",
     "output_type": "stream",
     "text": [
      "Rolling: 100%|██████████| 30/30 [00:11<00:00,  2.55it/s]\n"
     ]
    },
    {
     "name": "stdout",
     "output_type": "stream",
     "text": [
      "Feature extraction started\n",
      "Feature extraction completed\n",
      "(5987, 87)\n"
     ]
    },
    {
     "name": "stderr",
     "output_type": "stream",
     "text": [
      "100%|██████████| 93/93 [2:45:14<00:00, 106.61s/it]"
     ]
    },
    {
     "name": "stdout",
     "output_type": "stream",
     "text": [
      "Feature selection completed\n",
      "(5987, 2)\n"
     ]
    },
    {
     "name": "stderr",
     "output_type": "stream",
     "text": [
      "\n"
     ]
    }
   ],
   "source": [
    "create_dataset_for_each_eigenvector(df,MEMORY=4,HORIZON=12)"
   ]
  },
  {
   "cell_type": "markdown",
   "metadata": {},
   "source": [
    "Now that we have save the dataframe for all eigenvectors, the next notebook will use envolve finding the best model and hyperparameter turning"
   ]
  }
 ],
 "metadata": {
  "accelerator": "GPU",
  "colab": {
   "collapsed_sections": [
    "2c7CTTYEUP6x",
    "-WnlUqq1UEMN"
   ],
   "name": "POD + PINN - Kuramoto.ipynb",
   "provenance": []
  },
  "interpreter": {
   "hash": "18e03f19e2eea32137bb6b7634899948883c996f0eeacfc3548045b6b15590e6"
  },
  "kernelspec": {
   "display_name": "Python 3.8.8 64-bit ('base': conda)",
   "name": "python3"
  },
  "language_info": {
   "codemirror_mode": {
    "name": "ipython",
    "version": 3
   },
   "file_extension": ".py",
   "mimetype": "text/x-python",
   "name": "python",
   "nbconvert_exporter": "python",
   "pygments_lexer": "ipython3",
   "version": "3.8.8"
  },
  "latex_envs": {
   "LaTeX_envs_menu_present": true,
   "autoclose": false,
   "autocomplete": true,
   "bibliofile": "biblio.bib",
   "cite_by": "apalike",
   "current_citInitial": 1,
   "eqLabelWithNumbers": true,
   "eqNumInitial": 1,
   "hotkeys": {
    "equation": "Ctrl-E",
    "itemize": "Ctrl-I"
   },
   "labels_anchors": false,
   "latex_user_defs": false,
   "report_style_numbering": false,
   "user_envs_cfg": false
  },
  "toc": {
   "base_numbering": 1,
   "nav_menu": {},
   "number_sections": true,
   "sideBar": true,
   "skip_h1_title": false,
   "title_cell": "Table of Contents",
   "title_sidebar": "Contents",
   "toc_cell": false,
   "toc_position": {
    "height": "calc(100% - 180px)",
    "left": "10px",
    "top": "150px",
    "width": "349.091px"
   },
   "toc_section_display": true,
   "toc_window_display": false
  },
  "varInspector": {
   "cols": {
    "lenName": 16,
    "lenType": 16,
    "lenVar": 40
   },
   "kernels_config": {
    "python": {
     "delete_cmd_postfix": "",
     "delete_cmd_prefix": "del ",
     "library": "var_list.py",
     "varRefreshCmd": "print(var_dic_list())"
    },
    "r": {
     "delete_cmd_postfix": ") ",
     "delete_cmd_prefix": "rm(",
     "library": "var_list.r",
     "varRefreshCmd": "cat(var_dic_list()) "
    }
   },
   "position": {
    "height": "432px",
    "left": "1246px",
    "right": "20px",
    "top": "151px",
    "width": "577px"
   },
   "types_to_exclude": [
    "module",
    "function",
    "builtin_function_or_method",
    "instance",
    "_Feature"
   ],
   "window_display": false
  },
  "widgets": {
   "application/vnd.jupyter.widget-state+json": {
    "0130c38f71a74e5f933a042117b1269e": {
     "model_module": "@jupyter-widgets/base",
     "model_name": "LayoutModel",
     "state": {
      "_model_module": "@jupyter-widgets/base",
      "_model_module_version": "1.2.0",
      "_model_name": "LayoutModel",
      "_view_count": null,
      "_view_module": "@jupyter-widgets/base",
      "_view_module_version": "1.2.0",
      "_view_name": "LayoutView",
      "align_content": null,
      "align_items": null,
      "align_self": null,
      "border": null,
      "bottom": null,
      "display": null,
      "flex": null,
      "flex_flow": null,
      "grid_area": null,
      "grid_auto_columns": null,
      "grid_auto_flow": null,
      "grid_auto_rows": null,
      "grid_column": null,
      "grid_gap": null,
      "grid_row": null,
      "grid_template_areas": null,
      "grid_template_columns": null,
      "grid_template_rows": null,
      "height": null,
      "justify_content": null,
      "justify_items": null,
      "left": null,
      "margin": null,
      "max_height": null,
      "max_width": null,
      "min_height": null,
      "min_width": null,
      "object_fit": null,
      "object_position": null,
      "order": null,
      "overflow": null,
      "overflow_x": null,
      "overflow_y": null,
      "padding": null,
      "right": null,
      "top": null,
      "visibility": null,
      "width": null
     }
    },
    "096f8dd75db34e0a87849116249aa1a8": {
     "model_module": "@jupyter-widgets/controls",
     "model_name": "HTMLModel",
     "state": {
      "_dom_classes": [],
      "_model_module": "@jupyter-widgets/controls",
      "_model_module_version": "1.5.0",
      "_model_name": "HTMLModel",
      "_view_count": null,
      "_view_module": "@jupyter-widgets/controls",
      "_view_module_version": "1.5.0",
      "_view_name": "HTMLView",
      "description": "",
      "description_tooltip": null,
      "layout": "IPY_MODEL_fa24181ec3af44cfbdf925e19dc37617",
      "placeholder": "​",
      "style": "IPY_MODEL_a15c25052c6742b0bcc82abae14561ff",
      "value": " 735/5000 [5:07:04&lt;28:05:59, 23.72s/it]"
     }
    },
    "1cb0afca3bfe47a98c5ae7124415fe86": {
     "model_module": "@jupyter-widgets/controls",
     "model_name": "FloatProgressModel",
     "state": {
      "_dom_classes": [],
      "_model_module": "@jupyter-widgets/controls",
      "_model_module_version": "1.5.0",
      "_model_name": "FloatProgressModel",
      "_view_count": null,
      "_view_module": "@jupyter-widgets/controls",
      "_view_module_version": "1.5.0",
      "_view_name": "ProgressView",
      "bar_style": "",
      "description": " 15%",
      "description_tooltip": null,
      "layout": "IPY_MODEL_ebf01fdc30584833a1cbfee928a2d6d7",
      "max": 5000,
      "min": 0,
      "orientation": "horizontal",
      "style": "IPY_MODEL_ab2a3bceba974e0ba05b9c59ca6da790",
      "value": 735
     }
    },
    "a15c25052c6742b0bcc82abae14561ff": {
     "model_module": "@jupyter-widgets/controls",
     "model_name": "DescriptionStyleModel",
     "state": {
      "_model_module": "@jupyter-widgets/controls",
      "_model_module_version": "1.5.0",
      "_model_name": "DescriptionStyleModel",
      "_view_count": null,
      "_view_module": "@jupyter-widgets/base",
      "_view_module_version": "1.2.0",
      "_view_name": "StyleView",
      "description_width": ""
     }
    },
    "ab2a3bceba974e0ba05b9c59ca6da790": {
     "model_module": "@jupyter-widgets/controls",
     "model_name": "ProgressStyleModel",
     "state": {
      "_model_module": "@jupyter-widgets/controls",
      "_model_module_version": "1.5.0",
      "_model_name": "ProgressStyleModel",
      "_view_count": null,
      "_view_module": "@jupyter-widgets/base",
      "_view_module_version": "1.2.0",
      "_view_name": "StyleView",
      "bar_color": null,
      "description_width": "initial"
     }
    },
    "ccbce3e44dac418bb1fbccc1689f5324": {
     "model_module": "@jupyter-widgets/controls",
     "model_name": "HBoxModel",
     "state": {
      "_dom_classes": [],
      "_model_module": "@jupyter-widgets/controls",
      "_model_module_version": "1.5.0",
      "_model_name": "HBoxModel",
      "_view_count": null,
      "_view_module": "@jupyter-widgets/controls",
      "_view_module_version": "1.5.0",
      "_view_name": "HBoxView",
      "box_style": "",
      "children": [
       "IPY_MODEL_1cb0afca3bfe47a98c5ae7124415fe86",
       "IPY_MODEL_096f8dd75db34e0a87849116249aa1a8"
      ],
      "layout": "IPY_MODEL_0130c38f71a74e5f933a042117b1269e"
     }
    },
    "ebf01fdc30584833a1cbfee928a2d6d7": {
     "model_module": "@jupyter-widgets/base",
     "model_name": "LayoutModel",
     "state": {
      "_model_module": "@jupyter-widgets/base",
      "_model_module_version": "1.2.0",
      "_model_name": "LayoutModel",
      "_view_count": null,
      "_view_module": "@jupyter-widgets/base",
      "_view_module_version": "1.2.0",
      "_view_name": "LayoutView",
      "align_content": null,
      "align_items": null,
      "align_self": null,
      "border": null,
      "bottom": null,
      "display": null,
      "flex": null,
      "flex_flow": null,
      "grid_area": null,
      "grid_auto_columns": null,
      "grid_auto_flow": null,
      "grid_auto_rows": null,
      "grid_column": null,
      "grid_gap": null,
      "grid_row": null,
      "grid_template_areas": null,
      "grid_template_columns": null,
      "grid_template_rows": null,
      "height": null,
      "justify_content": null,
      "justify_items": null,
      "left": null,
      "margin": null,
      "max_height": null,
      "max_width": null,
      "min_height": null,
      "min_width": null,
      "object_fit": null,
      "object_position": null,
      "order": null,
      "overflow": null,
      "overflow_x": null,
      "overflow_y": null,
      "padding": null,
      "right": null,
      "top": null,
      "visibility": null,
      "width": null
     }
    },
    "fa24181ec3af44cfbdf925e19dc37617": {
     "model_module": "@jupyter-widgets/base",
     "model_name": "LayoutModel",
     "state": {
      "_model_module": "@jupyter-widgets/base",
      "_model_module_version": "1.2.0",
      "_model_name": "LayoutModel",
      "_view_count": null,
      "_view_module": "@jupyter-widgets/base",
      "_view_module_version": "1.2.0",
      "_view_name": "LayoutView",
      "align_content": null,
      "align_items": null,
      "align_self": null,
      "border": null,
      "bottom": null,
      "display": null,
      "flex": null,
      "flex_flow": null,
      "grid_area": null,
      "grid_auto_columns": null,
      "grid_auto_flow": null,
      "grid_auto_rows": null,
      "grid_column": null,
      "grid_gap": null,
      "grid_row": null,
      "grid_template_areas": null,
      "grid_template_columns": null,
      "grid_template_rows": null,
      "height": null,
      "justify_content": null,
      "justify_items": null,
      "left": null,
      "margin": null,
      "max_height": null,
      "max_width": null,
      "min_height": null,
      "min_width": null,
      "object_fit": null,
      "object_position": null,
      "order": null,
      "overflow": null,
      "overflow_x": null,
      "overflow_y": null,
      "padding": null,
      "right": null,
      "top": null,
      "visibility": null,
      "width": null
     }
    }
   }
  }
 },
 "nbformat": 4,
 "nbformat_minor": 1
}
